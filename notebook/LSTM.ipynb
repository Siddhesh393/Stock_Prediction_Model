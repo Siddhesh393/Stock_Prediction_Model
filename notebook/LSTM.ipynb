{
 "cells": [
  {
   "cell_type": "code",
   "execution_count": 1,
   "id": "f5982b60-bf7d-462a-9e6d-1d5d2845e3ea",
   "metadata": {},
   "outputs": [],
   "source": [
    "import pandas_datareader as pdr"
   ]
  },
  {
   "cell_type": "code",
   "execution_count": 2,
   "id": "93256051-9527-4387-b960-b884c9b71ad3",
   "metadata": {},
   "outputs": [],
   "source": [
    "key = \"070644c07da656b3764138e22d620de049dd4eba\""
   ]
  },
  {
   "cell_type": "code",
   "execution_count": 3,
   "id": "7f2bbaff-2c5e-4b39-8dd7-6f8c274279d0",
   "metadata": {},
   "outputs": [],
   "source": [
    "import requests\n",
    "import pandas as pd\n",
    "from datetime import datetime, timedelta\n",
    "\n",
    "# Define the parameters\n",
    "symbol = 'NVDA'\n",
    "api_key = '070644c07da656b3764138e22d620de049dd4eba'  # replace with your actual API key\n",
    "end_date = datetime.now().date()\n",
    "start_date = end_date - timedelta(days=5*365)  # Approximate 5 years\n",
    "\n",
    "# Construct the URL and parameters\n",
    "url = f'https://api.tiingo.com/tiingo/daily/{symbol}/prices?startDate={start_date}&endDate={end_date}'\n",
    "headers = {\n",
    "    'Content-Type': 'application/json',\n",
    "    'Authorization': f'Token {api_key}'\n",
    "}\n",
    "\n",
    "# Make the request\n",
    "response = requests.get(url, headers=headers)\n",
    "\n",
    "# Convert the response to a DataFrame\n",
    "data = response.json()\n",
    "df = pd.DataFrame(data)\n",
    "\n",
    "# Save the DataFrame to a CSV file\n",
    "df.to_csv('NVDA.csv', index=False)\n"
   ]
  },
  {
   "cell_type": "code",
   "execution_count": 4,
   "id": "77cee282-3934-4d51-bd37-59159670e65f",
   "metadata": {},
   "outputs": [
    {
     "data": {
      "text/html": [
       "<div>\n",
       "<style scoped>\n",
       "    .dataframe tbody tr th:only-of-type {\n",
       "        vertical-align: middle;\n",
       "    }\n",
       "\n",
       "    .dataframe tbody tr th {\n",
       "        vertical-align: top;\n",
       "    }\n",
       "\n",
       "    .dataframe thead th {\n",
       "        text-align: right;\n",
       "    }\n",
       "</style>\n",
       "<table border=\"1\" class=\"dataframe\">\n",
       "  <thead>\n",
       "    <tr style=\"text-align: right;\">\n",
       "      <th></th>\n",
       "      <th>date</th>\n",
       "      <th>close</th>\n",
       "      <th>high</th>\n",
       "      <th>low</th>\n",
       "      <th>open</th>\n",
       "      <th>volume</th>\n",
       "      <th>adjClose</th>\n",
       "      <th>adjHigh</th>\n",
       "      <th>adjLow</th>\n",
       "      <th>adjOpen</th>\n",
       "      <th>adjVolume</th>\n",
       "      <th>divCash</th>\n",
       "      <th>splitFactor</th>\n",
       "    </tr>\n",
       "  </thead>\n",
       "  <tbody>\n",
       "    <tr>\n",
       "      <th>0</th>\n",
       "      <td>2019-10-31T00:00:00.000Z</td>\n",
       "      <td>201.02</td>\n",
       "      <td>203.00</td>\n",
       "      <td>197.81</td>\n",
       "      <td>202.16</td>\n",
       "      <td>5243315</td>\n",
       "      <td>5.001081</td>\n",
       "      <td>5.050340</td>\n",
       "      <td>4.921221</td>\n",
       "      <td>5.029442</td>\n",
       "      <td>209732600</td>\n",
       "      <td>0.0</td>\n",
       "      <td>1.0</td>\n",
       "    </tr>\n",
       "    <tr>\n",
       "      <th>1</th>\n",
       "      <td>2019-11-01T00:00:00.000Z</td>\n",
       "      <td>202.59</td>\n",
       "      <td>203.89</td>\n",
       "      <td>198.59</td>\n",
       "      <td>199.60</td>\n",
       "      <td>7090956</td>\n",
       "      <td>5.040140</td>\n",
       "      <td>5.072482</td>\n",
       "      <td>4.940626</td>\n",
       "      <td>4.965753</td>\n",
       "      <td>283638240</td>\n",
       "      <td>0.0</td>\n",
       "      <td>1.0</td>\n",
       "    </tr>\n",
       "    <tr>\n",
       "      <th>2</th>\n",
       "      <td>2019-11-04T00:00:00.000Z</td>\n",
       "      <td>210.50</td>\n",
       "      <td>211.00</td>\n",
       "      <td>204.92</td>\n",
       "      <td>205.85</td>\n",
       "      <td>9417905</td>\n",
       "      <td>5.236929</td>\n",
       "      <td>5.249369</td>\n",
       "      <td>5.098107</td>\n",
       "      <td>5.121244</td>\n",
       "      <td>376716200</td>\n",
       "      <td>0.0</td>\n",
       "      <td>1.0</td>\n",
       "    </tr>\n",
       "    <tr>\n",
       "      <th>3</th>\n",
       "      <td>2019-11-05T00:00:00.000Z</td>\n",
       "      <td>209.61</td>\n",
       "      <td>211.54</td>\n",
       "      <td>207.68</td>\n",
       "      <td>210.49</td>\n",
       "      <td>7521712</td>\n",
       "      <td>5.214787</td>\n",
       "      <td>5.262803</td>\n",
       "      <td>5.166772</td>\n",
       "      <td>5.236680</td>\n",
       "      <td>300868480</td>\n",
       "      <td>0.0</td>\n",
       "      <td>1.0</td>\n",
       "    </tr>\n",
       "    <tr>\n",
       "      <th>4</th>\n",
       "      <td>2019-11-06T00:00:00.000Z</td>\n",
       "      <td>207.63</td>\n",
       "      <td>209.67</td>\n",
       "      <td>204.11</td>\n",
       "      <td>208.64</td>\n",
       "      <td>6725335</td>\n",
       "      <td>5.165528</td>\n",
       "      <td>5.216280</td>\n",
       "      <td>5.077955</td>\n",
       "      <td>5.190655</td>\n",
       "      <td>269013400</td>\n",
       "      <td>0.0</td>\n",
       "      <td>1.0</td>\n",
       "    </tr>\n",
       "  </tbody>\n",
       "</table>\n",
       "</div>"
      ],
      "text/plain": [
       "                       date   close    high     low    open   volume  \\\n",
       "0  2019-10-31T00:00:00.000Z  201.02  203.00  197.81  202.16  5243315   \n",
       "1  2019-11-01T00:00:00.000Z  202.59  203.89  198.59  199.60  7090956   \n",
       "2  2019-11-04T00:00:00.000Z  210.50  211.00  204.92  205.85  9417905   \n",
       "3  2019-11-05T00:00:00.000Z  209.61  211.54  207.68  210.49  7521712   \n",
       "4  2019-11-06T00:00:00.000Z  207.63  209.67  204.11  208.64  6725335   \n",
       "\n",
       "   adjClose   adjHigh    adjLow   adjOpen  adjVolume  divCash  splitFactor  \n",
       "0  5.001081  5.050340  4.921221  5.029442  209732600      0.0          1.0  \n",
       "1  5.040140  5.072482  4.940626  4.965753  283638240      0.0          1.0  \n",
       "2  5.236929  5.249369  5.098107  5.121244  376716200      0.0          1.0  \n",
       "3  5.214787  5.262803  5.166772  5.236680  300868480      0.0          1.0  \n",
       "4  5.165528  5.216280  5.077955  5.190655  269013400      0.0          1.0  "
      ]
     },
     "execution_count": 4,
     "metadata": {},
     "output_type": "execute_result"
    }
   ],
   "source": [
    "df.head()"
   ]
  },
  {
   "cell_type": "code",
   "execution_count": 5,
   "id": "31d33243-8ebc-4a1a-b115-3986203daf70",
   "metadata": {},
   "outputs": [
    {
     "data": {
      "text/html": [
       "<div>\n",
       "<style scoped>\n",
       "    .dataframe tbody tr th:only-of-type {\n",
       "        vertical-align: middle;\n",
       "    }\n",
       "\n",
       "    .dataframe tbody tr th {\n",
       "        vertical-align: top;\n",
       "    }\n",
       "\n",
       "    .dataframe thead th {\n",
       "        text-align: right;\n",
       "    }\n",
       "</style>\n",
       "<table border=\"1\" class=\"dataframe\">\n",
       "  <thead>\n",
       "    <tr style=\"text-align: right;\">\n",
       "      <th></th>\n",
       "      <th>date</th>\n",
       "      <th>close</th>\n",
       "      <th>high</th>\n",
       "      <th>low</th>\n",
       "      <th>open</th>\n",
       "      <th>volume</th>\n",
       "      <th>adjClose</th>\n",
       "      <th>adjHigh</th>\n",
       "      <th>adjLow</th>\n",
       "      <th>adjOpen</th>\n",
       "      <th>adjVolume</th>\n",
       "      <th>divCash</th>\n",
       "      <th>splitFactor</th>\n",
       "    </tr>\n",
       "  </thead>\n",
       "  <tbody>\n",
       "    <tr>\n",
       "      <th>1250</th>\n",
       "      <td>2024-10-21T00:00:00.000Z</td>\n",
       "      <td>143.71</td>\n",
       "      <td>143.71</td>\n",
       "      <td>138.00</td>\n",
       "      <td>138.13</td>\n",
       "      <td>264554514</td>\n",
       "      <td>143.71</td>\n",
       "      <td>143.71</td>\n",
       "      <td>138.00</td>\n",
       "      <td>138.13</td>\n",
       "      <td>264554514</td>\n",
       "      <td>0.0</td>\n",
       "      <td>1.0</td>\n",
       "    </tr>\n",
       "    <tr>\n",
       "      <th>1251</th>\n",
       "      <td>2024-10-22T00:00:00.000Z</td>\n",
       "      <td>143.59</td>\n",
       "      <td>144.42</td>\n",
       "      <td>141.78</td>\n",
       "      <td>142.91</td>\n",
       "      <td>226311589</td>\n",
       "      <td>143.59</td>\n",
       "      <td>144.42</td>\n",
       "      <td>141.78</td>\n",
       "      <td>142.91</td>\n",
       "      <td>226311589</td>\n",
       "      <td>0.0</td>\n",
       "      <td>1.0</td>\n",
       "    </tr>\n",
       "    <tr>\n",
       "      <th>1252</th>\n",
       "      <td>2024-10-23T00:00:00.000Z</td>\n",
       "      <td>139.56</td>\n",
       "      <td>142.43</td>\n",
       "      <td>137.46</td>\n",
       "      <td>142.03</td>\n",
       "      <td>285930038</td>\n",
       "      <td>139.56</td>\n",
       "      <td>142.43</td>\n",
       "      <td>137.46</td>\n",
       "      <td>142.03</td>\n",
       "      <td>285930038</td>\n",
       "      <td>0.0</td>\n",
       "      <td>1.0</td>\n",
       "    </tr>\n",
       "    <tr>\n",
       "      <th>1253</th>\n",
       "      <td>2024-10-24T00:00:00.000Z</td>\n",
       "      <td>140.41</td>\n",
       "      <td>141.35</td>\n",
       "      <td>138.46</td>\n",
       "      <td>140.82</td>\n",
       "      <td>172354888</td>\n",
       "      <td>140.41</td>\n",
       "      <td>141.35</td>\n",
       "      <td>138.46</td>\n",
       "      <td>140.82</td>\n",
       "      <td>172354888</td>\n",
       "      <td>0.0</td>\n",
       "      <td>1.0</td>\n",
       "    </tr>\n",
       "    <tr>\n",
       "      <th>1254</th>\n",
       "      <td>2024-10-25T00:00:00.000Z</td>\n",
       "      <td>141.54</td>\n",
       "      <td>144.13</td>\n",
       "      <td>140.80</td>\n",
       "      <td>140.93</td>\n",
       "      <td>205122109</td>\n",
       "      <td>141.54</td>\n",
       "      <td>144.13</td>\n",
       "      <td>140.80</td>\n",
       "      <td>140.93</td>\n",
       "      <td>205122109</td>\n",
       "      <td>0.0</td>\n",
       "      <td>1.0</td>\n",
       "    </tr>\n",
       "  </tbody>\n",
       "</table>\n",
       "</div>"
      ],
      "text/plain": [
       "                          date   close    high     low    open     volume  \\\n",
       "1250  2024-10-21T00:00:00.000Z  143.71  143.71  138.00  138.13  264554514   \n",
       "1251  2024-10-22T00:00:00.000Z  143.59  144.42  141.78  142.91  226311589   \n",
       "1252  2024-10-23T00:00:00.000Z  139.56  142.43  137.46  142.03  285930038   \n",
       "1253  2024-10-24T00:00:00.000Z  140.41  141.35  138.46  140.82  172354888   \n",
       "1254  2024-10-25T00:00:00.000Z  141.54  144.13  140.80  140.93  205122109   \n",
       "\n",
       "      adjClose  adjHigh  adjLow  adjOpen  adjVolume  divCash  splitFactor  \n",
       "1250    143.71   143.71  138.00   138.13  264554514      0.0          1.0  \n",
       "1251    143.59   144.42  141.78   142.91  226311589      0.0          1.0  \n",
       "1252    139.56   142.43  137.46   142.03  285930038      0.0          1.0  \n",
       "1253    140.41   141.35  138.46   140.82  172354888      0.0          1.0  \n",
       "1254    141.54   144.13  140.80   140.93  205122109      0.0          1.0  "
      ]
     },
     "execution_count": 5,
     "metadata": {},
     "output_type": "execute_result"
    }
   ],
   "source": [
    "df.tail()"
   ]
  },
  {
   "cell_type": "code",
   "execution_count": 6,
   "id": "2ec30ebf-8d9f-4ab1-979a-741e19f03f62",
   "metadata": {},
   "outputs": [],
   "source": [
    "df1=df.reset_index()['close']"
   ]
  },
  {
   "cell_type": "code",
   "execution_count": 7,
   "id": "3ce49fc6-965c-48b5-a1bf-1716a5e653ab",
   "metadata": {},
   "outputs": [
    {
     "data": {
      "text/plain": [
       "(1255,)"
      ]
     },
     "execution_count": 7,
     "metadata": {},
     "output_type": "execute_result"
    }
   ],
   "source": [
    "df1.shape"
   ]
  },
  {
   "cell_type": "code",
   "execution_count": 8,
   "id": "61d7b0dd-28b6-4a27-b669-719c759c5696",
   "metadata": {},
   "outputs": [
    {
     "data": {
      "text/plain": [
       "[<matplotlib.lines.Line2D at 0x202264bd510>]"
      ]
     },
     "execution_count": 8,
     "metadata": {},
     "output_type": "execute_result"
    },
    {
     "data": {
      "image/png": "[encoded data removed]",
      "text/plain": [
       "<Figure size 640x480 with 1 Axes>"
      ]
     },
     "metadata": {},
     "output_type": "display_data"
    }
   ],
   "source": [
    "import matplotlib.pyplot as plt\n",
    "plt.plot(df1)"
   ]
  },
  {
   "cell_type": "code",
   "execution_count": 9,
   "id": "1372b71e-5376-4cfe-9575-e7658546c3ba",
   "metadata": {},
   "outputs": [],
   "source": [
    "import numpy as np"
   ]
  },
  {
   "cell_type": "code",
   "execution_count": 10,
   "id": "be7eb574-5d04-4742-9c2c-80a7d787c950",
   "metadata": {},
   "outputs": [],
   "source": [
    "from sklearn.preprocessing import MinMaxScaler\n",
    "scaler=MinMaxScaler(feature_range=(0,1))\n",
    "df1=scaler.fit_transform(np.array(df1).reshape(-1,1))"
   ]
  },
  {
   "cell_type": "code",
   "execution_count": 11,
   "id": "0a6bac9d-1c82-42d7-9b79-3cb2f734bc7d",
   "metadata": {},
   "outputs": [
    {
     "data": {
      "text/plain": [
       "array([[0.09072493],\n",
       "       [0.09211988],\n",
       "       [0.09914793],\n",
       "       ...,\n",
       "       [0.0361176 ],\n",
       "       [0.03687283],\n",
       "       [0.03787684]])"
      ]
     },
     "execution_count": 11,
     "metadata": {},
     "output_type": "execute_result"
    }
   ],
   "source": [
    "df1"
   ]
  },
  {
   "cell_type": "code",
   "execution_count": 12,
   "id": "03905088-323f-492d-9bb2-167d2bddcb65",
   "metadata": {},
   "outputs": [],
   "source": [
    "training_size = int(len(df1)*0.65)\n",
    "test_size=len(df1)-training_size\n",
    "train_data, test_data = df1[0:training_size,:], df1[training_size:len(df1):1]"
   ]
  },
  {
   "cell_type": "code",
   "execution_count": 13,
   "id": "d02b3744-d026-4ad4-b640-d8fe8aa6afaf",
   "metadata": {},
   "outputs": [
    {
     "data": {
      "text/plain": [
       "(815, 440)"
      ]
     },
     "execution_count": 13,
     "metadata": {},
     "output_type": "execute_result"
    }
   ],
   "source": [
    "training_size, test_size"
   ]
  },
  {
   "cell_type": "code",
   "execution_count": 14,
   "id": "447a199a-296b-46fc-bf85-d59b5089fada",
   "metadata": {},
   "outputs": [],
   "source": [
    "def create_dataset(dataset, time_step=1):\n",
    "    dataX, dataY= [], []\n",
    "    for i in range(len(dataset)-time_step-1):\n",
    "        a = dataset[i:(i+time_step), 0]\n",
    "        dataX.append(a)\n",
    "        dataY.append(dataset[i+time_step, 0])\n",
    "    return np.array(dataX), np.array(dataY)"
   ]
  },
  {
   "cell_type": "code",
   "execution_count": 15,
   "id": "d4ae4135-8ce0-4c61-8fa0-da2aa0583fd4",
   "metadata": {},
   "outputs": [],
   "source": [
    "time_step=100\n",
    "X_train, y_train = create_dataset(train_data, time_step)\n",
    "X_test, y_test = create_dataset(test_data, time_step)"
   ]
  },
  {
   "cell_type": "code",
   "execution_count": 16,
   "id": "3982b4d1-36f9-4ed2-9d56-8ae219f91a14",
   "metadata": {},
   "outputs": [
    {
     "name": "stdout",
     "output_type": "stream",
     "text": [
      "[[0.09072493 0.09211988 0.09914793 ... 0.10109375 0.13351518 0.13035211]\n",
      " [0.09211988 0.09914793 0.09835716 ... 0.13351518 0.13035211 0.14067651]\n",
      " [0.09914793 0.09835716 0.09659793 ... 0.13035211 0.14067651 0.13666936]\n",
      " ...\n",
      " [0.05251046 0.04955175 0.04622875 ... 0.06651325 0.06107562 0.07061813]\n",
      " [0.04955175 0.04622875 0.03594879 ... 0.06107562 0.07061813 0.08264845]\n",
      " [0.04622875 0.03594879 0.03337213 ... 0.07061813 0.08264845 0.08328817]]\n"
     ]
    }
   ],
   "source": [
    "print(X_train)"
   ]
  },
  {
   "cell_type": "code",
   "execution_count": 17,
   "id": "f8ac1301-bff9-4b73-8515-8ed922eb1782",
   "metadata": {},
   "outputs": [
    {
     "name": "stdout",
     "output_type": "stream",
     "text": [
      "(714, 100)\n",
      "(714,)\n"
     ]
    },
    {
     "data": {
      "text/plain": [
       "(None, None)"
      ]
     },
     "execution_count": 17,
     "metadata": {},
     "output_type": "execute_result"
    }
   ],
   "source": [
    "print(X_train.shape), print(y_train.shape)"
   ]
  },
  {
   "cell_type": "code",
   "execution_count": 18,
   "id": "8568513d-a435-4473-b1e5-c09e43083b6d",
   "metadata": {},
   "outputs": [
    {
     "data": {
      "text/plain": [
       "(339, 100)"
      ]
     },
     "execution_count": 18,
     "metadata": {},
     "output_type": "execute_result"
    }
   ],
   "source": [
    "X_test.shape"
   ]
  },
  {
   "cell_type": "code",
   "execution_count": 19,
   "id": "12ecfbcb-f03b-4366-b673-564fc0e37d28",
   "metadata": {},
   "outputs": [],
   "source": [
    "X_train = X_train.reshape(X_train.shape[0], X_train.shape[1], 1)\n",
    "X_test = X_test.reshape(X_test.shape[0], X_test.shape[1], 1)"
   ]
  },
  {
   "cell_type": "code",
   "execution_count": 20,
   "id": "e0e54d54-070c-4b98-b12d-67ad05db238b",
   "metadata": {},
   "outputs": [],
   "source": [
    "import tensorflow\n",
    "from tensorflow.keras.models import Sequential\n",
    "from tensorflow.keras.layers import Dense\n",
    "from tensorflow.keras.layers import LSTM"
   ]
  },
  {
   "cell_type": "code",
   "execution_count": 21,
   "id": "bc246eb3-c2a3-41cb-8528-497f16e96796",
   "metadata": {},
   "outputs": [
    {
     "name": "stderr",
     "output_type": "stream",
     "text": [
      "C:\\Users\\siddh\\anaconda3\\Lib\\site-packages\\keras\\src\\layers\\rnn\\rnn.py:204: UserWarning: Do not pass an `input_shape`/`input_dim` argument to a layer. When using Sequential models, prefer using an `Input(shape)` object as the first layer in the model instead.\n",
      "  super().__init__(**kwargs)\n"
     ]
    }
   ],
   "source": [
    "model=Sequential()\n",
    "model.add(LSTM(50,return_sequences=True,input_shape=(100,1)))\n",
    "model.add(LSTM(50,return_sequences=True))\n",
    "model.add(LSTM(50))\n",
    "model.add(Dense(1))\n",
    "model.compile(loss='mean_squared_error',optimizer='adam')"
   ]
  },
  {
   "cell_type": "code",
   "execution_count": 22,
   "id": "fc3be5e0-1c19-47be-be0b-68cdaaea629a",
   "metadata": {},
   "outputs": [
    {
     "data": {
      "text/html": [
       "<pre style=\"white-space:pre;overflow-x:auto;line-height:normal;font-family:Menlo,'DejaVu Sans Mono',consolas,'Courier New',monospace\"><span style=\"font-weight: bold\">Model: \"sequential\"</span>\n",
       "</pre>\n"
      ],
      "text/plain": [
       "\u001b[1mModel: \"sequential\"\u001b[0m\n"
      ]
     },
     "metadata": {},
     "output_type": "display_data"
    },
    {
     "data": {
      "text/html": [
       "<pre style=\"white-space:pre;overflow-x:auto;line-height:normal;font-family:Menlo,'DejaVu Sans Mono',consolas,'Courier New',monospace\">┏━━━━━━━━━━━━━━━━━━━━━━━━━━━━━━━━━┳━━━━━━━━━━━━━━━━━━━━━━━━┳━━━━━━━━━━━━━━━┓\n",
       "┃<span style=\"font-weight: bold\"> Layer (type)                    </span>┃<span style=\"font-weight: bold\"> Output Shape           </span>┃<span style=\"font-weight: bold\">       Param # </span>┃\n",
       "┡━━━━━━━━━━━━━━━━━━━━━━━━━━━━━━━━━╇━━━━━━━━━━━━━━━━━━━━━━━━╇━━━━━━━━━━━━━━━┩\n",
       "│ lstm (<span style=\"color: #0087ff; text-decoration-color: #0087ff\">LSTM</span>)                     │ (<span style=\"color: #00d7ff; text-decoration-color: #00d7ff\">None</span>, <span style=\"color: #00af00; text-decoration-color: #00af00\">100</span>, <span style=\"color: #00af00; text-decoration-color: #00af00\">50</span>)        │        <span style=\"color: #00af00; text-decoration-color: #00af00\">10,400</span> │\n",
       "├─────────────────────────────────┼────────────────────────┼───────────────┤\n",
       "│ lstm_1 (<span style=\"color: #0087ff; text-decoration-color: #0087ff\">LSTM</span>)                   │ (<span style=\"color: #00d7ff; text-decoration-color: #00d7ff\">None</span>, <span style=\"color: #00af00; text-decoration-color: #00af00\">100</span>, <span style=\"color: #00af00; text-decoration-color: #00af00\">50</span>)        │        <span style=\"color: #00af00; text-decoration-color: #00af00\">20,200</span> │\n",
       "├─────────────────────────────────┼────────────────────────┼───────────────┤\n",
       "│ lstm_2 (<span style=\"color: #0087ff; text-decoration-color: #0087ff\">LSTM</span>)                   │ (<span style=\"color: #00d7ff; text-decoration-color: #00d7ff\">None</span>, <span style=\"color: #00af00; text-decoration-color: #00af00\">50</span>)             │        <span style=\"color: #00af00; text-decoration-color: #00af00\">20,200</span> │\n",
       "├─────────────────────────────────┼────────────────────────┼───────────────┤\n",
       "│ dense (<span style=\"color: #0087ff; text-decoration-color: #0087ff\">Dense</span>)                   │ (<span style=\"color: #00d7ff; text-decoration-color: #00d7ff\">None</span>, <span style=\"color: #00af00; text-decoration-color: #00af00\">1</span>)              │            <span style=\"color: #00af00; text-decoration-color: #00af00\">51</span> │\n",
       "└─────────────────────────────────┴────────────────────────┴───────────────┘\n",
       "</pre>\n"
      ],
      "text/plain": [
       "┏━━━━━━━━━━━━━━━━━━━━━━━━━━━━━━━━━┳━━━━━━━━━━━━━━━━━━━━━━━━┳━━━━━━━━━━━━━━━┓\n",
       "┃\u001b[1m \u001b[0m\u001b[1mLayer (type)                   \u001b[0m\u001b[1m \u001b[0m┃\u001b[1m \u001b[0m\u001b[1mOutput Shape          \u001b[0m\u001b[1m \u001b[0m┃\u001b[1m \u001b[0m\u001b[1m      Param #\u001b[0m\u001b[1m \u001b[0m┃\n",
       "┡━━━━━━━━━━━━━━━━━━━━━━━━━━━━━━━━━╇━━━━━━━━━━━━━━━━━━━━━━━━╇━━━━━━━━━━━━━━━┩\n",
       "│ lstm (\u001b[38;5;33mLSTM\u001b[0m)                     │ (\u001b[38;5;45mNone\u001b[0m, \u001b[38;5;34m100\u001b[0m, \u001b[38;5;34m50\u001b[0m)        │        \u001b[38;5;34m10,400\u001b[0m │\n",
       "├─────────────────────────────────┼────────────────────────┼───────────────┤\n",
       "│ lstm_1 (\u001b[38;5;33mLSTM\u001b[0m)                   │ (\u001b[38;5;45mNone\u001b[0m, \u001b[38;5;34m100\u001b[0m, \u001b[38;5;34m50\u001b[0m)        │        \u001b[38;5;34m20,200\u001b[0m │\n",
       "├─────────────────────────────────┼────────────────────────┼───────────────┤\n",
       "│ lstm_2 (\u001b[38;5;33mLSTM\u001b[0m)                   │ (\u001b[38;5;45mNone\u001b[0m, \u001b[38;5;34m50\u001b[0m)             │        \u001b[38;5;34m20,200\u001b[0m │\n",
       "├─────────────────────────────────┼────────────────────────┼───────────────┤\n",
       "│ dense (\u001b[38;5;33mDense\u001b[0m)                   │ (\u001b[38;5;45mNone\u001b[0m, \u001b[38;5;34m1\u001b[0m)              │            \u001b[38;5;34m51\u001b[0m │\n",
       "└─────────────────────────────────┴────────────────────────┴───────────────┘\n"
      ]
     },
     "metadata": {},
     "output_type": "display_data"
    },
    {
     "data": {
      "text/html": [
       "<pre style=\"white-space:pre;overflow-x:auto;line-height:normal;font-family:Menlo,'DejaVu Sans Mono',consolas,'Courier New',monospace\"><span style=\"font-weight: bold\"> Total params: </span><span style=\"color: #00af00; text-decoration-color: #00af00\">50,851</span> (198.64 KB)\n",
       "</pre>\n"
      ],
      "text/plain": [
       "\u001b[1m Total params: \u001b[0m\u001b[38;5;34m50,851\u001b[0m (198.64 KB)\n"
      ]
     },
     "metadata": {},
     "output_type": "display_data"
    },
    {
     "data": {
      "text/html": [
       "<pre style=\"white-space:pre;overflow-x:auto;line-height:normal;font-family:Menlo,'DejaVu Sans Mono',consolas,'Courier New',monospace\"><span style=\"font-weight: bold\"> Trainable params: </span><span style=\"color: #00af00; text-decoration-color: #00af00\">50,851</span> (198.64 KB)\n",
       "</pre>\n"
      ],
      "text/plain": [
       "\u001b[1m Trainable params: \u001b[0m\u001b[38;5;34m50,851\u001b[0m (198.64 KB)\n"
      ]
     },
     "metadata": {},
     "output_type": "display_data"
    },
    {
     "data": {
      "text/html": [
       "<pre style=\"white-space:pre;overflow-x:auto;line-height:normal;font-family:Menlo,'DejaVu Sans Mono',consolas,'Courier New',monospace\"><span style=\"font-weight: bold\"> Non-trainable params: </span><span style=\"color: #00af00; text-decoration-color: #00af00\">0</span> (0.00 B)\n",
       "</pre>\n"
      ],
      "text/plain": [
       "\u001b[1m Non-trainable params: \u001b[0m\u001b[38;5;34m0\u001b[0m (0.00 B)\n"
      ]
     },
     "metadata": {},
     "output_type": "display_data"
    }
   ],
   "source": [
    "model.summary()"
   ]
  },
  {
   "cell_type": "code",
   "execution_count": 25,
   "id": "7b8db0e9-e299-44f7-a1e1-20a950a38d34",
   "metadata": {},
   "outputs": [
    {
     "name": "stdout",
     "output_type": "stream",
     "text": [
      "Epoch 1/100\n",
      "\u001b[1m12/12\u001b[0m \u001b[32m━━━━━━━━━━━━━━━━━━━━\u001b[0m\u001b[37m\u001b[0m \u001b[1m24s\u001b[0m 468ms/step - loss: 0.0342 - val_loss: 0.0318\n",
      "Epoch 2/100\n",
      "\u001b[1m12/12\u001b[0m \u001b[32m━━━━━━━━━━━━━━━━━━━━\u001b[0m\u001b[37m\u001b[0m \u001b[1m3s\u001b[0m 267ms/step - loss: 0.0068 - val_loss: 0.0203\n",
      "Epoch 3/100\n",
      "\u001b[1m12/12\u001b[0m \u001b[32m━━━━━━━━━━━━━━━━━━━━\u001b[0m\u001b[37m\u001b[0m \u001b[1m3s\u001b[0m 253ms/step - loss: 0.0040 - val_loss: 0.0189\n",
      "Epoch 4/100\n",
      "\u001b[1m12/12\u001b[0m \u001b[32m━━━━━━━━━━━━━━━━━━━━\u001b[0m\u001b[37m\u001b[0m \u001b[1m3s\u001b[0m 267ms/step - loss: 0.0038 - val_loss: 0.0174\n",
      "Epoch 5/100\n",
      "\u001b[1m12/12\u001b[0m \u001b[32m━━━━━━━━━━━━━━━━━━━━\u001b[0m\u001b[37m\u001b[0m \u001b[1m3s\u001b[0m 283ms/step - loss: 0.0034 - val_loss: 0.0170\n",
      "Epoch 6/100\n",
      "\u001b[1m12/12\u001b[0m \u001b[32m━━━━━━━━━━━━━━━━━━━━\u001b[0m\u001b[37m\u001b[0m \u001b[1m3s\u001b[0m 278ms/step - loss: 0.0042 - val_loss: 0.0156\n",
      "Epoch 7/100\n",
      "\u001b[1m12/12\u001b[0m \u001b[32m━━━━━━━━━━━━━━━━━━━━\u001b[0m\u001b[37m\u001b[0m \u001b[1m3s\u001b[0m 257ms/step - loss: 0.0040 - val_loss: 0.0150\n",
      "Epoch 8/100\n",
      "\u001b[1m12/12\u001b[0m \u001b[32m━━━━━━━━━━━━━━━━━━━━\u001b[0m\u001b[37m\u001b[0m \u001b[1m3s\u001b[0m 258ms/step - loss: 0.0026 - val_loss: 0.0138\n",
      "Epoch 9/100\n",
      "\u001b[1m12/12\u001b[0m \u001b[32m━━━━━━━━━━━━━━━━━━━━\u001b[0m\u001b[37m\u001b[0m \u001b[1m4s\u001b[0m 291ms/step - loss: 0.0028 - val_loss: 0.0132\n",
      "Epoch 10/100\n",
      "\u001b[1m12/12\u001b[0m \u001b[32m━━━━━━━━━━━━━━━━━━━━\u001b[0m\u001b[37m\u001b[0m \u001b[1m4s\u001b[0m 304ms/step - loss: 0.0022 - val_loss: 0.0124\n",
      "Epoch 11/100\n",
      "\u001b[1m12/12\u001b[0m \u001b[32m━━━━━━━━━━━━━━━━━━━━\u001b[0m\u001b[37m\u001b[0m \u001b[1m3s\u001b[0m 279ms/step - loss: 0.0032 - val_loss: 0.0117\n",
      "Epoch 12/100\n",
      "\u001b[1m12/12\u001b[0m \u001b[32m━━━━━━━━━━━━━━━━━━━━\u001b[0m\u001b[37m\u001b[0m \u001b[1m3s\u001b[0m 266ms/step - loss: 0.0027 - val_loss: 0.0115\n",
      "Epoch 13/100\n",
      "\u001b[1m12/12\u001b[0m \u001b[32m━━━━━━━━━━━━━━━━━━━━\u001b[0m\u001b[37m\u001b[0m \u001b[1m3s\u001b[0m 265ms/step - loss: 0.0017 - val_loss: 0.0114\n",
      "Epoch 14/100\n",
      "\u001b[1m12/12\u001b[0m \u001b[32m━━━━━━━━━━━━━━━━━━━━\u001b[0m\u001b[37m\u001b[0m \u001b[1m3s\u001b[0m 276ms/step - loss: 0.0016 - val_loss: 0.0103\n",
      "Epoch 15/100\n",
      "\u001b[1m12/12\u001b[0m \u001b[32m━━━━━━━━━━━━━━━━━━━━\u001b[0m\u001b[37m\u001b[0m \u001b[1m3s\u001b[0m 269ms/step - loss: 0.0027 - val_loss: 0.0097\n",
      "Epoch 16/100\n",
      "\u001b[1m12/12\u001b[0m \u001b[32m━━━━━━━━━━━━━━━━━━━━\u001b[0m\u001b[37m\u001b[0m \u001b[1m3s\u001b[0m 278ms/step - loss: 0.0019 - val_loss: 0.0116\n",
      "Epoch 17/100\n",
      "\u001b[1m12/12\u001b[0m \u001b[32m━━━━━━━━━━━━━━━━━━━━\u001b[0m\u001b[37m\u001b[0m \u001b[1m3s\u001b[0m 264ms/step - loss: 0.0022 - val_loss: 0.0102\n",
      "Epoch 18/100\n",
      "\u001b[1m12/12\u001b[0m \u001b[32m━━━━━━━━━━━━━━━━━━━━\u001b[0m\u001b[37m\u001b[0m \u001b[1m3s\u001b[0m 268ms/step - loss: 0.0012 - val_loss: 0.0099\n",
      "Epoch 19/100\n",
      "\u001b[1m12/12\u001b[0m \u001b[32m━━━━━━━━━━━━━━━━━━━━\u001b[0m\u001b[37m\u001b[0m \u001b[1m3s\u001b[0m 276ms/step - loss: 0.0015 - val_loss: 0.0113\n",
      "Epoch 20/100\n",
      "\u001b[1m12/12\u001b[0m \u001b[32m━━━━━━━━━━━━━━━━━━━━\u001b[0m\u001b[37m\u001b[0m \u001b[1m3s\u001b[0m 266ms/step - loss: 0.0012 - val_loss: 0.0111\n",
      "Epoch 21/100\n",
      "\u001b[1m12/12\u001b[0m \u001b[32m━━━━━━━━━━━━━━━━━━━━\u001b[0m\u001b[37m\u001b[0m \u001b[1m3s\u001b[0m 273ms/step - loss: 0.0014 - val_loss: 0.0101\n",
      "Epoch 22/100\n",
      "\u001b[1m12/12\u001b[0m \u001b[32m━━━━━━━━━━━━━━━━━━━━\u001b[0m\u001b[37m\u001b[0m \u001b[1m3s\u001b[0m 273ms/step - loss: 0.0011 - val_loss: 0.0097\n",
      "Epoch 23/100\n",
      "\u001b[1m12/12\u001b[0m \u001b[32m━━━━━━━━━━━━━━━━━━━━\u001b[0m\u001b[37m\u001b[0m \u001b[1m3s\u001b[0m 288ms/step - loss: 8.1207e-04 - val_loss: 0.0142\n",
      "Epoch 24/100\n",
      "\u001b[1m12/12\u001b[0m \u001b[32m━━━━━━━━━━━━━━━━━━━━\u001b[0m\u001b[37m\u001b[0m \u001b[1m3s\u001b[0m 278ms/step - loss: 0.0027 - val_loss: 0.0072\n",
      "Epoch 25/100\n",
      "\u001b[1m12/12\u001b[0m \u001b[32m━━━━━━━━━━━━━━━━━━━━\u001b[0m\u001b[37m\u001b[0m \u001b[1m3s\u001b[0m 267ms/step - loss: 0.0016 - val_loss: 0.0075\n",
      "Epoch 26/100\n",
      "\u001b[1m12/12\u001b[0m \u001b[32m━━━━━━━━━━━━━━━━━━━━\u001b[0m\u001b[37m\u001b[0m \u001b[1m3s\u001b[0m 271ms/step - loss: 7.5146e-04 - val_loss: 0.0083\n",
      "Epoch 27/100\n",
      "\u001b[1m12/12\u001b[0m \u001b[32m━━━━━━━━━━━━━━━━━━━━\u001b[0m\u001b[37m\u001b[0m \u001b[1m3s\u001b[0m 268ms/step - loss: 0.0015 - val_loss: 0.0088\n",
      "Epoch 28/100\n",
      "\u001b[1m12/12\u001b[0m \u001b[32m━━━━━━━━━━━━━━━━━━━━\u001b[0m\u001b[37m\u001b[0m \u001b[1m3s\u001b[0m 270ms/step - loss: 8.4452e-04 - val_loss: 0.0078\n",
      "Epoch 29/100\n",
      "\u001b[1m12/12\u001b[0m \u001b[32m━━━━━━━━━━━━━━━━━━━━\u001b[0m\u001b[37m\u001b[0m \u001b[1m3s\u001b[0m 264ms/step - loss: 0.0011 - val_loss: 0.0088\n",
      "Epoch 30/100\n",
      "\u001b[1m12/12\u001b[0m \u001b[32m━━━━━━━━━━━━━━━━━━━━\u001b[0m\u001b[37m\u001b[0m \u001b[1m3s\u001b[0m 281ms/step - loss: 0.0011 - val_loss: 0.0088\n",
      "Epoch 31/100\n",
      "\u001b[1m12/12\u001b[0m \u001b[32m━━━━━━━━━━━━━━━━━━━━\u001b[0m\u001b[37m\u001b[0m \u001b[1m3s\u001b[0m 278ms/step - loss: 8.2003e-04 - val_loss: 0.0086\n",
      "Epoch 32/100\n",
      "\u001b[1m12/12\u001b[0m \u001b[32m━━━━━━━━━━━━━━━━━━━━\u001b[0m\u001b[37m\u001b[0m \u001b[1m3s\u001b[0m 273ms/step - loss: 9.2966e-04 - val_loss: 0.0074\n",
      "Epoch 33/100\n",
      "\u001b[1m12/12\u001b[0m \u001b[32m━━━━━━━━━━━━━━━━━━━━\u001b[0m\u001b[37m\u001b[0m \u001b[1m3s\u001b[0m 271ms/step - loss: 0.0012 - val_loss: 0.0089\n",
      "Epoch 34/100\n",
      "\u001b[1m12/12\u001b[0m \u001b[32m━━━━━━━━━━━━━━━━━━━━\u001b[0m\u001b[37m\u001b[0m \u001b[1m3s\u001b[0m 288ms/step - loss: 7.5124e-04 - val_loss: 0.0087\n",
      "Epoch 35/100\n",
      "\u001b[1m12/12\u001b[0m \u001b[32m━━━━━━━━━━━━━━━━━━━━\u001b[0m\u001b[37m\u001b[0m \u001b[1m3s\u001b[0m 270ms/step - loss: 7.7776e-04 - val_loss: 0.0095\n",
      "Epoch 36/100\n",
      "\u001b[1m12/12\u001b[0m \u001b[32m━━━━━━━━━━━━━━━━━━━━\u001b[0m\u001b[37m\u001b[0m \u001b[1m4s\u001b[0m 299ms/step - loss: 6.0964e-04 - val_loss: 0.0096\n",
      "Epoch 37/100\n",
      "\u001b[1m12/12\u001b[0m \u001b[32m━━━━━━━━━━━━━━━━━━━━\u001b[0m\u001b[37m\u001b[0m \u001b[1m3s\u001b[0m 275ms/step - loss: 8.4596e-04 - val_loss: 0.0091\n",
      "Epoch 38/100\n",
      "\u001b[1m12/12\u001b[0m \u001b[32m━━━━━━━━━━━━━━━━━━━━\u001b[0m\u001b[37m\u001b[0m \u001b[1m3s\u001b[0m 267ms/step - loss: 8.1324e-04 - val_loss: 0.0057\n",
      "Epoch 39/100\n",
      "\u001b[1m12/12\u001b[0m \u001b[32m━━━━━━━━━━━━━━━━━━━━\u001b[0m\u001b[37m\u001b[0m \u001b[1m3s\u001b[0m 278ms/step - loss: 6.2555e-04 - val_loss: 0.0083\n",
      "Epoch 40/100\n",
      "\u001b[1m12/12\u001b[0m \u001b[32m━━━━━━━━━━━━━━━━━━━━\u001b[0m\u001b[37m\u001b[0m \u001b[1m3s\u001b[0m 267ms/step - loss: 7.5268e-04 - val_loss: 0.0090\n",
      "Epoch 41/100\n",
      "\u001b[1m12/12\u001b[0m \u001b[32m━━━━━━━━━━━━━━━━━━━━\u001b[0m\u001b[37m\u001b[0m \u001b[1m3s\u001b[0m 257ms/step - loss: 9.8795e-04 - val_loss: 0.0077\n",
      "Epoch 42/100\n",
      "\u001b[1m12/12\u001b[0m \u001b[32m━━━━━━━━━━━━━━━━━━━━\u001b[0m\u001b[37m\u001b[0m \u001b[1m3s\u001b[0m 269ms/step - loss: 5.8591e-04 - val_loss: 0.0089\n",
      "Epoch 43/100\n",
      "\u001b[1m12/12\u001b[0m \u001b[32m━━━━━━━━━━━━━━━━━━━━\u001b[0m\u001b[37m\u001b[0m \u001b[1m3s\u001b[0m 273ms/step - loss: 6.1287e-04 - val_loss: 0.0093\n",
      "Epoch 44/100\n",
      "\u001b[1m12/12\u001b[0m \u001b[32m━━━━━━━━━━━━━━━━━━━━\u001b[0m\u001b[37m\u001b[0m \u001b[1m3s\u001b[0m 274ms/step - loss: 8.6989e-04 - val_loss: 0.0073\n",
      "Epoch 45/100\n",
      "\u001b[1m12/12\u001b[0m \u001b[32m━━━━━━━━━━━━━━━━━━━━\u001b[0m\u001b[37m\u001b[0m \u001b[1m3s\u001b[0m 272ms/step - loss: 7.0215e-04 - val_loss: 0.0080\n",
      "Epoch 46/100\n",
      "\u001b[1m12/12\u001b[0m \u001b[32m━━━━━━━━━━━━━━━━━━━━\u001b[0m\u001b[37m\u001b[0m \u001b[1m3s\u001b[0m 281ms/step - loss: 7.8926e-04 - val_loss: 0.0091\n",
      "Epoch 47/100\n",
      "\u001b[1m12/12\u001b[0m \u001b[32m━━━━━━━━━━━━━━━━━━━━\u001b[0m\u001b[37m\u001b[0m \u001b[1m3s\u001b[0m 271ms/step - loss: 5.5456e-04 - val_loss: 0.0101\n",
      "Epoch 48/100\n",
      "\u001b[1m12/12\u001b[0m \u001b[32m━━━━━━━━━━━━━━━━━━━━\u001b[0m\u001b[37m\u001b[0m \u001b[1m3s\u001b[0m 271ms/step - loss: 7.9266e-04 - val_loss: 0.0072\n",
      "Epoch 49/100\n",
      "\u001b[1m12/12\u001b[0m \u001b[32m━━━━━━━━━━━━━━━━━━━━\u001b[0m\u001b[37m\u001b[0m \u001b[1m3s\u001b[0m 264ms/step - loss: 0.0011 - val_loss: 0.0072\n",
      "Epoch 50/100\n",
      "\u001b[1m12/12\u001b[0m \u001b[32m━━━━━━━━━━━━━━━━━━━━\u001b[0m\u001b[37m\u001b[0m \u001b[1m3s\u001b[0m 264ms/step - loss: 5.8020e-04 - val_loss: 0.0101\n",
      "Epoch 51/100\n",
      "\u001b[1m12/12\u001b[0m \u001b[32m━━━━━━━━━━━━━━━━━━━━\u001b[0m\u001b[37m\u001b[0m \u001b[1m3s\u001b[0m 264ms/step - loss: 8.4133e-04 - val_loss: 0.0070\n",
      "Epoch 52/100\n",
      "\u001b[1m12/12\u001b[0m \u001b[32m━━━━━━━━━━━━━━━━━━━━\u001b[0m\u001b[37m\u001b[0m \u001b[1m3s\u001b[0m 267ms/step - loss: 6.7659e-04 - val_loss: 0.0104\n",
      "Epoch 53/100\n",
      "\u001b[1m12/12\u001b[0m \u001b[32m━━━━━━━━━━━━━━━━━━━━\u001b[0m\u001b[37m\u001b[0m \u001b[1m3s\u001b[0m 265ms/step - loss: 5.3207e-04 - val_loss: 0.0089\n",
      "Epoch 54/100\n",
      "\u001b[1m12/12\u001b[0m \u001b[32m━━━━━━━━━━━━━━━━━━━━\u001b[0m\u001b[37m\u001b[0m \u001b[1m3s\u001b[0m 275ms/step - loss: 5.8208e-04 - val_loss: 0.0092\n",
      "Epoch 55/100\n",
      "\u001b[1m12/12\u001b[0m \u001b[32m━━━━━━━━━━━━━━━━━━━━\u001b[0m\u001b[37m\u001b[0m \u001b[1m3s\u001b[0m 265ms/step - loss: 8.1590e-04 - val_loss: 0.0063\n",
      "Epoch 56/100\n",
      "\u001b[1m12/12\u001b[0m \u001b[32m━━━━━━━━━━━━━━━━━━━━\u001b[0m\u001b[37m\u001b[0m \u001b[1m3s\u001b[0m 255ms/step - loss: 7.6057e-04 - val_loss: 0.0085\n",
      "Epoch 57/100\n",
      "\u001b[1m12/12\u001b[0m \u001b[32m━━━━━━━━━━━━━━━━━━━━\u001b[0m\u001b[37m\u001b[0m \u001b[1m3s\u001b[0m 263ms/step - loss: 0.0010 - val_loss: 0.0099\n",
      "Epoch 58/100\n",
      "\u001b[1m12/12\u001b[0m \u001b[32m━━━━━━━━━━━━━━━━━━━━\u001b[0m\u001b[37m\u001b[0m \u001b[1m3s\u001b[0m 277ms/step - loss: 8.7863e-04 - val_loss: 0.0065\n",
      "Epoch 59/100\n",
      "\u001b[1m12/12\u001b[0m \u001b[32m━━━━━━━━━━━━━━━━━━━━\u001b[0m\u001b[37m\u001b[0m \u001b[1m3s\u001b[0m 271ms/step - loss: 5.9075e-04 - val_loss: 0.0070\n",
      "Epoch 60/100\n",
      "\u001b[1m12/12\u001b[0m \u001b[32m━━━━━━━━━━━━━━━━━━━━\u001b[0m\u001b[37m\u001b[0m \u001b[1m3s\u001b[0m 268ms/step - loss: 8.1171e-04 - val_loss: 0.0053\n",
      "Epoch 61/100\n",
      "\u001b[1m12/12\u001b[0m \u001b[32m━━━━━━━━━━━━━━━━━━━━\u001b[0m\u001b[37m\u001b[0m \u001b[1m3s\u001b[0m 281ms/step - loss: 9.6542e-04 - val_loss: 0.0043\n",
      "Epoch 62/100\n",
      "\u001b[1m12/12\u001b[0m \u001b[32m━━━━━━━━━━━━━━━━━━━━\u001b[0m\u001b[37m\u001b[0m \u001b[1m3s\u001b[0m 265ms/step - loss: 7.7442e-04 - val_loss: 0.0048\n",
      "Epoch 63/100\n",
      "\u001b[1m12/12\u001b[0m \u001b[32m━━━━━━━━━━━━━━━━━━━━\u001b[0m\u001b[37m\u001b[0m \u001b[1m3s\u001b[0m 262ms/step - loss: 0.0011 - val_loss: 0.0060\n",
      "Epoch 64/100\n",
      "\u001b[1m12/12\u001b[0m \u001b[32m━━━━━━━━━━━━━━━━━━━━\u001b[0m\u001b[37m\u001b[0m \u001b[1m3s\u001b[0m 284ms/step - loss: 5.0418e-04 - val_loss: 0.0066\n",
      "Epoch 65/100\n",
      "\u001b[1m12/12\u001b[0m \u001b[32m━━━━━━━━━━━━━━━━━━━━\u001b[0m\u001b[37m\u001b[0m \u001b[1m3s\u001b[0m 272ms/step - loss: 7.1044e-04 - val_loss: 0.0070\n",
      "Epoch 66/100\n",
      "\u001b[1m12/12\u001b[0m \u001b[32m━━━━━━━━━━━━━━━━━━━━\u001b[0m\u001b[37m\u001b[0m \u001b[1m3s\u001b[0m 286ms/step - loss: 6.2154e-04 - val_loss: 0.0070\n",
      "Epoch 67/100\n",
      "\u001b[1m12/12\u001b[0m \u001b[32m━━━━━━━━━━━━━━━━━━━━\u001b[0m\u001b[37m\u001b[0m \u001b[1m3s\u001b[0m 273ms/step - loss: 4.6862e-04 - val_loss: 0.0072\n",
      "Epoch 68/100\n",
      "\u001b[1m12/12\u001b[0m \u001b[32m━━━━━━━━━━━━━━━━━━━━\u001b[0m\u001b[37m\u001b[0m \u001b[1m3s\u001b[0m 281ms/step - loss: 4.2650e-04 - val_loss: 0.0078\n",
      "Epoch 69/100\n",
      "\u001b[1m12/12\u001b[0m \u001b[32m━━━━━━━━━━━━━━━━━━━━\u001b[0m\u001b[37m\u001b[0m \u001b[1m3s\u001b[0m 273ms/step - loss: 6.1063e-04 - val_loss: 0.0081\n",
      "Epoch 70/100\n",
      "\u001b[1m12/12\u001b[0m \u001b[32m━━━━━━━━━━━━━━━━━━━━\u001b[0m\u001b[37m\u001b[0m \u001b[1m3s\u001b[0m 265ms/step - loss: 3.6947e-04 - val_loss: 0.0073\n",
      "Epoch 71/100\n",
      "\u001b[1m12/12\u001b[0m \u001b[32m━━━━━━━━━━━━━━━━━━━━\u001b[0m\u001b[37m\u001b[0m \u001b[1m3s\u001b[0m 264ms/step - loss: 4.6752e-04 - val_loss: 0.0094\n",
      "Epoch 72/100\n",
      "\u001b[1m12/12\u001b[0m \u001b[32m━━━━━━━━━━━━━━━━━━━━\u001b[0m\u001b[37m\u001b[0m \u001b[1m3s\u001b[0m 273ms/step - loss: 3.9507e-04 - val_loss: 0.0083\n",
      "Epoch 73/100\n",
      "\u001b[1m12/12\u001b[0m \u001b[32m━━━━━━━━━━━━━━━━━━━━\u001b[0m\u001b[37m\u001b[0m \u001b[1m3s\u001b[0m 257ms/step - loss: 4.4462e-04 - val_loss: 0.0091\n",
      "Epoch 74/100\n",
      "\u001b[1m12/12\u001b[0m \u001b[32m━━━━━━━━━━━━━━━━━━━━\u001b[0m\u001b[37m\u001b[0m \u001b[1m3s\u001b[0m 268ms/step - loss: 3.5349e-04 - val_loss: 0.0100\n",
      "Epoch 75/100\n",
      "\u001b[1m12/12\u001b[0m \u001b[32m━━━━━━━━━━━━━━━━━━━━\u001b[0m\u001b[37m\u001b[0m \u001b[1m3s\u001b[0m 264ms/step - loss: 5.5574e-04 - val_loss: 0.0082\n",
      "Epoch 76/100\n",
      "\u001b[1m12/12\u001b[0m \u001b[32m━━━━━━━━━━━━━━━━━━━━\u001b[0m\u001b[37m\u001b[0m \u001b[1m3s\u001b[0m 261ms/step - loss: 7.2810e-04 - val_loss: 0.0086\n",
      "Epoch 77/100\n",
      "\u001b[1m12/12\u001b[0m \u001b[32m━━━━━━━━━━━━━━━━━━━━\u001b[0m\u001b[37m\u001b[0m \u001b[1m5s\u001b[0m 262ms/step - loss: 4.1355e-04 - val_loss: 0.0104\n",
      "Epoch 78/100\n",
      "\u001b[1m12/12\u001b[0m \u001b[32m━━━━━━━━━━━━━━━━━━━━\u001b[0m\u001b[37m\u001b[0m \u001b[1m3s\u001b[0m 276ms/step - loss: 6.2408e-04 - val_loss: 0.0088\n",
      "Epoch 79/100\n",
      "\u001b[1m12/12\u001b[0m \u001b[32m━━━━━━━━━━━━━━━━━━━━\u001b[0m\u001b[37m\u001b[0m \u001b[1m3s\u001b[0m 258ms/step - loss: 5.8895e-04 - val_loss: 0.0092\n",
      "Epoch 80/100\n",
      "\u001b[1m12/12\u001b[0m \u001b[32m━━━━━━━━━━━━━━━━━━━━\u001b[0m\u001b[37m\u001b[0m \u001b[1m3s\u001b[0m 266ms/step - loss: 4.7350e-04 - val_loss: 0.0104\n",
      "Epoch 81/100\n",
      "\u001b[1m12/12\u001b[0m \u001b[32m━━━━━━━━━━━━━━━━━━━━\u001b[0m\u001b[37m\u001b[0m \u001b[1m3s\u001b[0m 273ms/step - loss: 5.4244e-04 - val_loss: 0.0106\n",
      "Epoch 82/100\n",
      "\u001b[1m12/12\u001b[0m \u001b[32m━━━━━━━━━━━━━━━━━━━━\u001b[0m\u001b[37m\u001b[0m \u001b[1m3s\u001b[0m 263ms/step - loss: 3.7342e-04 - val_loss: 0.0094\n",
      "Epoch 83/100\n",
      "\u001b[1m12/12\u001b[0m \u001b[32m━━━━━━━━━━━━━━━━━━━━\u001b[0m\u001b[37m\u001b[0m \u001b[1m3s\u001b[0m 266ms/step - loss: 7.1754e-04 - val_loss: 0.0079\n",
      "Epoch 84/100\n",
      "\u001b[1m12/12\u001b[0m \u001b[32m━━━━━━━━━━━━━━━━━━━━\u001b[0m\u001b[37m\u001b[0m \u001b[1m3s\u001b[0m 259ms/step - loss: 4.0276e-04 - val_loss: 0.0094\n",
      "Epoch 85/100\n",
      "\u001b[1m12/12\u001b[0m \u001b[32m━━━━━━━━━━━━━━━━━━━━\u001b[0m\u001b[37m\u001b[0m \u001b[1m3s\u001b[0m 262ms/step - loss: 4.2092e-04 - val_loss: 0.0095\n",
      "Epoch 86/100\n",
      "\u001b[1m12/12\u001b[0m \u001b[32m━━━━━━━━━━━━━━━━━━━━\u001b[0m\u001b[37m\u001b[0m \u001b[1m4s\u001b[0m 295ms/step - loss: 8.6052e-04 - val_loss: 0.0071\n",
      "Epoch 87/100\n",
      "\u001b[1m12/12\u001b[0m \u001b[32m━━━━━━━━━━━━━━━━━━━━\u001b[0m\u001b[37m\u001b[0m \u001b[1m3s\u001b[0m 261ms/step - loss: 9.5387e-04 - val_loss: 0.0050\n",
      "Epoch 88/100\n",
      "\u001b[1m12/12\u001b[0m \u001b[32m━━━━━━━━━━━━━━━━━━━━\u001b[0m\u001b[37m\u001b[0m \u001b[1m5s\u001b[0m 267ms/step - loss: 5.4447e-04 - val_loss: 0.0056\n",
      "Epoch 89/100\n",
      "\u001b[1m12/12\u001b[0m \u001b[32m━━━━━━━━━━━━━━━━━━━━\u001b[0m\u001b[37m\u001b[0m \u001b[1m3s\u001b[0m 260ms/step - loss: 5.7173e-04 - val_loss: 0.0075\n",
      "Epoch 90/100\n",
      "\u001b[1m12/12\u001b[0m \u001b[32m━━━━━━━━━━━━━━━━━━━━\u001b[0m\u001b[37m\u001b[0m \u001b[1m3s\u001b[0m 262ms/step - loss: 5.7041e-04 - val_loss: 0.0075\n",
      "Epoch 91/100\n",
      "\u001b[1m12/12\u001b[0m \u001b[32m━━━━━━━━━━━━━━━━━━━━\u001b[0m\u001b[37m\u001b[0m \u001b[1m3s\u001b[0m 273ms/step - loss: 4.6393e-04 - val_loss: 0.0071\n",
      "Epoch 92/100\n",
      "\u001b[1m12/12\u001b[0m \u001b[32m━━━━━━━━━━━━━━━━━━━━\u001b[0m\u001b[37m\u001b[0m \u001b[1m3s\u001b[0m 280ms/step - loss: 5.0282e-04 - val_loss: 0.0083\n",
      "Epoch 93/100\n",
      "\u001b[1m12/12\u001b[0m \u001b[32m━━━━━━━━━━━━━━━━━━━━\u001b[0m\u001b[37m\u001b[0m \u001b[1m3s\u001b[0m 264ms/step - loss: 4.1555e-04 - val_loss: 0.0095\n",
      "Epoch 94/100\n",
      "\u001b[1m12/12\u001b[0m \u001b[32m━━━━━━━━━━━━━━━━━━━━\u001b[0m\u001b[37m\u001b[0m \u001b[1m3s\u001b[0m 259ms/step - loss: 5.9110e-04 - val_loss: 0.0091\n",
      "Epoch 95/100\n",
      "\u001b[1m12/12\u001b[0m \u001b[32m━━━━━━━━━━━━━━━━━━━━\u001b[0m\u001b[37m\u001b[0m \u001b[1m3s\u001b[0m 268ms/step - loss: 4.0180e-04 - val_loss: 0.0075\n",
      "Epoch 96/100\n",
      "\u001b[1m12/12\u001b[0m \u001b[32m━━━━━━━━━━━━━━━━━━━━\u001b[0m\u001b[37m\u001b[0m \u001b[1m3s\u001b[0m 268ms/step - loss: 4.2339e-04 - val_loss: 0.0111\n",
      "Epoch 97/100\n",
      "\u001b[1m12/12\u001b[0m \u001b[32m━━━━━━━━━━━━━━━━━━━━\u001b[0m\u001b[37m\u001b[0m \u001b[1m3s\u001b[0m 277ms/step - loss: 6.2415e-04 - val_loss: 0.0085\n",
      "Epoch 98/100\n",
      "\u001b[1m12/12\u001b[0m \u001b[32m━━━━━━━━━━━━━━━━━━━━\u001b[0m\u001b[37m\u001b[0m \u001b[1m3s\u001b[0m 273ms/step - loss: 4.3475e-04 - val_loss: 0.0115\n",
      "Epoch 99/100\n",
      "\u001b[1m12/12\u001b[0m \u001b[32m━━━━━━━━━━━━━━━━━━━━\u001b[0m\u001b[37m\u001b[0m \u001b[1m3s\u001b[0m 256ms/step - loss: 4.7695e-04 - val_loss: 0.0126\n",
      "Epoch 100/100\n",
      "\u001b[1m12/12\u001b[0m \u001b[32m━━━━━━━━━━━━━━━━━━━━\u001b[0m\u001b[37m\u001b[0m \u001b[1m3s\u001b[0m 283ms/step - loss: 4.4605e-04 - val_loss: 0.0107\n"
     ]
    },
    {
     "data": {
      "text/plain": [
       "<keras.src.callbacks.history.History at 0x2022578ba90>"
      ]
     },
     "execution_count": 25,
     "metadata": {},
     "output_type": "execute_result"
    }
   ],
   "source": [
    "model.fit(X_train,y_train,validation_data=(X_test,y_test),epochs=100,batch_size=64,verbose=1)"
   ]
  },
  {
   "cell_type": "code",
   "execution_count": 26,
   "id": "82474252-92cd-4c58-8a50-b43e3f514547",
   "metadata": {},
   "outputs": [
    {
     "name": "stdout",
     "output_type": "stream",
     "text": [
      "\u001b[1m23/23\u001b[0m \u001b[32m━━━━━━━━━━━━━━━━━━━━\u001b[0m\u001b[37m\u001b[0m \u001b[1m5s\u001b[0m 137ms/step\n",
      "\u001b[1m11/11\u001b[0m \u001b[32m━━━━━━━━━━━━━━━━━━━━\u001b[0m\u001b[37m\u001b[0m \u001b[1m1s\u001b[0m 67ms/step\n"
     ]
    }
   ],
   "source": [
    "### Lets Do the prediction and check performance metrics\n",
    "train_predict=model.predict(X_train)\n",
    "test_predict=model.predict(X_test)"
   ]
  },
  {
   "cell_type": "code",
   "execution_count": 27,
   "id": "dfa0f4c6-6224-45f8-be3c-bc2d258e629a",
   "metadata": {},
   "outputs": [],
   "source": [
    "##Transformback to original form\n",
    "train_predict=scaler.inverse_transform(train_predict)\n",
    "test_predict=scaler.inverse_transform(test_predict)"
   ]
  },
  {
   "cell_type": "code",
   "execution_count": 28,
   "id": "aad49d72-72e6-4adc-81d4-8ac085c781ce",
   "metadata": {},
   "outputs": [
    {
     "data": {
      "text/plain": [
       "393.0667634565681"
      ]
     },
     "execution_count": 28,
     "metadata": {},
     "output_type": "execute_result"
    }
   ],
   "source": [
    "### Calculate RMSE performance metrics\n",
    "import math\n",
    "from sklearn.metrics import mean_squared_error\n",
    "math.sqrt(mean_squared_error(y_train,train_predict))"
   ]
  },
  {
   "cell_type": "code",
   "execution_count": 30,
   "id": "5383ad37-9783-47c5-9e3e-4da9ea23c82c",
   "metadata": {},
   "outputs": [
    {
     "data": {
      "text/plain": [
       "555.9129576281405"
      ]
     },
     "execution_count": 30,
     "metadata": {},
     "output_type": "execute_result"
    }
   ],
   "source": [
    "### Test Data RMSE\n",
    "math.sqrt(mean_squared_error(y_test,test_predict))"
   ]
  },
  {
   "cell_type": "code",
   "execution_count": 33,
   "id": "fed9f828-bdbc-4a7c-a9d9-b24ea6116589",
   "metadata": {},
   "outputs": [
    {
     "data": {
      "image/png": "[encoded data removed]",
      "text/plain": [
       "<Figure size 640x480 with 1 Axes>"
      ]
     },
     "metadata": {},
     "output_type": "display_data"
    }
   ],
   "source": [
    "### Plotting \n",
    "# shift train predictions for plotting\n",
    "look_back=100\n",
    "trainPredictPlot = np.empty_like(df1)\n",
    "trainPredictPlot[:, :] = np.nan\n",
    "trainPredictPlot[look_back:len(train_predict)+look_back, :] = train_predict\n",
    "# shift test predictions for plotting\n",
    "testPredictPlot = np.empty_like(df1)\n",
    "testPredictPlot[:, :] = np.nan\n",
    "testPredictPlot[len(train_predict)+(look_back*2)+1:len(df1)-1, :] = test_predict\n",
    "# plot baseline and predictions\n",
    "plt.plot(scaler.inverse_transform(df1))\n",
    "plt.plot(trainPredictPlot)\n",
    "plt.plot(testPredictPlot)\n",
    "plt.show()"
   ]
  },
  {
   "cell_type": "code",
   "execution_count": 34,
   "id": "d76f1764-7d86-4b90-b7ca-99e1e3a3bfe9",
   "metadata": {},
   "outputs": [
    {
     "data": {
      "text/plain": [
       "440"
      ]
     },
     "execution_count": 34,
     "metadata": {},
     "output_type": "execute_result"
    }
   ],
   "source": [
    "len(test_data)"
   ]
  },
  {
   "cell_type": "code",
   "execution_count": 35,
   "id": "89830f16-7854-4c06-9f88-8de4bd621416",
   "metadata": {},
   "outputs": [
    {
     "data": {
      "text/plain": [
       "(1, 100)"
      ]
     },
     "execution_count": 35,
     "metadata": {},
     "output_type": "execute_result"
    }
   ],
   "source": [
    "x_input=test_data[340:].reshape(1,-1)\n",
    "x_input.shape"
   ]
  },
  {
   "cell_type": "code",
   "execution_count": 36,
   "id": "ac863a08-6f44-4612-b6b6-2a1cf28738d4",
   "metadata": {},
   "outputs": [],
   "source": [
    "temp_input=list(x_input)\n",
    "temp_input=temp_input[0].tolist()"
   ]
  },
  {
   "cell_type": "code",
   "execution_count": 37,
   "id": "444a050c-c3fa-46df-b18c-b5c6776a2d0b",
   "metadata": {},
   "outputs": [
    {
     "name": "stdout",
     "output_type": "stream",
     "text": [
      "[0.03846205]\n",
      "101\n",
      "1 day input [0.9871878  0.98621045 0.02032892 0.01954704 0.02335871 0.02727701\n",
      " 0.02929391 0.02849426 0.03258136 0.02831656 0.02457596 0.01705924\n",
      " 0.02414948 0.02442492 0.02228363 0.0218838  0.02255906 0.02111081\n",
      " 0.0260953  0.02391847 0.02602422 0.02884966 0.03198607 0.02531342\n",
      " 0.02694826 0.02623746 0.02438938 0.01695262 0.01970697 0.01689931\n",
      " 0.0218838  0.02103972 0.01362962 0.01187927 0.0125723  0.0112662\n",
      " 0.00428258 0.01609077 0.00915157 0.00742788 0.00136829 0.0047446\n",
      " 0.         0.00538432 0.00518885 0.00898275 0.01530889 0.01703258\n",
      " 0.02127962 0.02280784 0.02762352 0.02518014 0.02629077 0.0220615\n",
      " 0.02706377 0.02447823 0.02611307 0.023723   0.01659722 0.01817875\n",
      " 0.00807648 0.00648606 0.00737457 0.00348293 0.00671707 0.00816533\n",
      " 0.01599303 0.01797439 0.01793885 0.01587753 0.01482021 0.01284774\n",
      " 0.016846   0.0151845  0.01541551 0.0195115  0.02185715 0.02232805\n",
      " 0.01998241 0.02001795 0.016073   0.01771673 0.02127074 0.02310993\n",
      " 0.02559774 0.03019129 0.02997805 0.03189722 0.03188833 0.03479373\n",
      " 0.02904513 0.03270575 0.03378084 0.03473154 0.03980488 0.03969826\n",
      " 0.0361176  0.03687283 0.03787684 0.03846205]\n",
      "1 day output [[0.0389817]]\n",
      "2 day input [0.98621045 0.02032892 0.01954704 0.02335871 0.02727701 0.02929391\n",
      " 0.02849426 0.03258136 0.02831656 0.02457596 0.01705924 0.02414948\n",
      " 0.02442492 0.02228363 0.0218838  0.02255906 0.02111081 0.0260953\n",
      " 0.02391847 0.02602422 0.02884966 0.03198607 0.02531342 0.02694826\n",
      " 0.02623746 0.02438938 0.01695262 0.01970697 0.01689931 0.0218838\n",
      " 0.02103972 0.01362962 0.01187927 0.0125723  0.0112662  0.00428258\n",
      " 0.01609077 0.00915157 0.00742788 0.00136829 0.0047446  0.\n",
      " 0.00538432 0.00518885 0.00898275 0.01530889 0.01703258 0.02127962\n",
      " 0.02280784 0.02762352 0.02518014 0.02629077 0.0220615  0.02706377\n",
      " 0.02447823 0.02611307 0.023723   0.01659722 0.01817875 0.00807648\n",
      " 0.00648606 0.00737457 0.00348293 0.00671707 0.00816533 0.01599303\n",
      " 0.01797439 0.01793885 0.01587753 0.01482021 0.01284774 0.016846\n",
      " 0.0151845  0.01541551 0.0195115  0.02185715 0.02232805 0.01998241\n",
      " 0.02001795 0.016073   0.01771673 0.02127074 0.02310993 0.02559774\n",
      " 0.03019129 0.02997805 0.03189722 0.03188833 0.03479373 0.02904513\n",
      " 0.03270575 0.03378084 0.03473154 0.03980488 0.03969826 0.0361176\n",
      " 0.03687283 0.03787684 0.03846205 0.0389817 ]\n",
      "2 day output [[0.03948413]]\n",
      "3 day input [0.02032892 0.01954704 0.02335871 0.02727701 0.02929391 0.02849426\n",
      " 0.03258136 0.02831656 0.02457596 0.01705924 0.02414948 0.02442492\n",
      " 0.02228363 0.0218838  0.02255906 0.02111081 0.0260953  0.02391847\n",
      " 0.02602422 0.02884966 0.03198607 0.02531342 0.02694826 0.02623746\n",
      " 0.02438938 0.01695262 0.01970697 0.01689931 0.0218838  0.02103972\n",
      " 0.01362962 0.01187927 0.0125723  0.0112662  0.00428258 0.01609077\n",
      " 0.00915157 0.00742788 0.00136829 0.0047446  0.         0.00538432\n",
      " 0.00518885 0.00898275 0.01530889 0.01703258 0.02127962 0.02280784\n",
      " 0.02762352 0.02518014 0.02629077 0.0220615  0.02706377 0.02447823\n",
      " 0.02611307 0.023723   0.01659722 0.01817875 0.00807648 0.00648606\n",
      " 0.00737457 0.00348293 0.00671707 0.00816533 0.01599303 0.01797439\n",
      " 0.01793885 0.01587753 0.01482021 0.01284774 0.016846   0.0151845\n",
      " 0.01541551 0.0195115  0.02185715 0.02232805 0.01998241 0.02001795\n",
      " 0.016073   0.01771673 0.02127074 0.02310993 0.02559774 0.03019129\n",
      " 0.02997805 0.03189722 0.03188833 0.03479373 0.02904513 0.03270575\n",
      " 0.03378084 0.03473154 0.03980488 0.03969826 0.0361176  0.03687283\n",
      " 0.03787684 0.03846205 0.0389817  0.03948413]\n",
      "3 day output [[0.03999407]]\n",
      "4 day input [0.01954704 0.02335871 0.02727701 0.02929391 0.02849426 0.03258136\n",
      " 0.02831656 0.02457596 0.01705924 0.02414948 0.02442492 0.02228363\n",
      " 0.0218838  0.02255906 0.02111081 0.0260953  0.02391847 0.02602422\n",
      " 0.02884966 0.03198607 0.02531342 0.02694826 0.02623746 0.02438938\n",
      " 0.01695262 0.01970697 0.01689931 0.0218838  0.02103972 0.01362962\n",
      " 0.01187927 0.0125723  0.0112662  0.00428258 0.01609077 0.00915157\n",
      " 0.00742788 0.00136829 0.0047446  0.         0.00538432 0.00518885\n",
      " 0.00898275 0.01530889 0.01703258 0.02127962 0.02280784 0.02762352\n",
      " 0.02518014 0.02629077 0.0220615  0.02706377 0.02447823 0.02611307\n",
      " 0.023723   0.01659722 0.01817875 0.00807648 0.00648606 0.00737457\n",
      " 0.00348293 0.00671707 0.00816533 0.01599303 0.01797439 0.01793885\n",
      " 0.01587753 0.01482021 0.01284774 0.016846   0.0151845  0.01541551\n",
      " 0.0195115  0.02185715 0.02232805 0.01998241 0.02001795 0.016073\n",
      " 0.01771673 0.02127074 0.02310993 0.02559774 0.03019129 0.02997805\n",
      " 0.03189722 0.03188833 0.03479373 0.02904513 0.03270575 0.03378084\n",
      " 0.03473154 0.03980488 0.03969826 0.0361176  0.03687283 0.03787684\n",
      " 0.03846205 0.0389817  0.03948413 0.03999407]\n",
      "4 day output [[0.04051876]]\n",
      "5 day input [0.02335871 0.02727701 0.02929391 0.02849426 0.03258136 0.02831656\n",
      " 0.02457596 0.01705924 0.02414948 0.02442492 0.02228363 0.0218838\n",
      " 0.02255906 0.02111081 0.0260953  0.02391847 0.02602422 0.02884966\n",
      " 0.03198607 0.02531342 0.02694826 0.02623746 0.02438938 0.01695262\n",
      " 0.01970697 0.01689931 0.0218838  0.02103972 0.01362962 0.01187927\n",
      " 0.0125723  0.0112662  0.00428258 0.01609077 0.00915157 0.00742788\n",
      " 0.00136829 0.0047446  0.         0.00538432 0.00518885 0.00898275\n",
      " 0.01530889 0.01703258 0.02127962 0.02280784 0.02762352 0.02518014\n",
      " 0.02629077 0.0220615  0.02706377 0.02447823 0.02611307 0.023723\n",
      " 0.01659722 0.01817875 0.00807648 0.00648606 0.00737457 0.00348293\n",
      " 0.00671707 0.00816533 0.01599303 0.01797439 0.01793885 0.01587753\n",
      " 0.01482021 0.01284774 0.016846   0.0151845  0.01541551 0.0195115\n",
      " 0.02185715 0.02232805 0.01998241 0.02001795 0.016073   0.01771673\n",
      " 0.02127074 0.02310993 0.02559774 0.03019129 0.02997805 0.03189722\n",
      " 0.03188833 0.03479373 0.02904513 0.03270575 0.03378084 0.03473154\n",
      " 0.03980488 0.03969826 0.0361176  0.03687283 0.03787684 0.03846205\n",
      " 0.0389817  0.03948413 0.03999407 0.04051876]\n",
      "5 day output [[0.0410575]]\n",
      "6 day input [0.02727701 0.02929391 0.02849426 0.03258136 0.02831656 0.02457596\n",
      " 0.01705924 0.02414948 0.02442492 0.02228363 0.0218838  0.02255906\n",
      " 0.02111081 0.0260953  0.02391847 0.02602422 0.02884966 0.03198607\n",
      " 0.02531342 0.02694826 0.02623746 0.02438938 0.01695262 0.01970697\n",
      " 0.01689931 0.0218838  0.02103972 0.01362962 0.01187927 0.0125723\n",
      " 0.0112662  0.00428258 0.01609077 0.00915157 0.00742788 0.00136829\n",
      " 0.0047446  0.         0.00538432 0.00518885 0.00898275 0.01530889\n",
      " 0.01703258 0.02127962 0.02280784 0.02762352 0.02518014 0.02629077\n",
      " 0.0220615  0.02706377 0.02447823 0.02611307 0.023723   0.01659722\n",
      " 0.01817875 0.00807648 0.00648606 0.00737457 0.00348293 0.00671707\n",
      " 0.00816533 0.01599303 0.01797439 0.01793885 0.01587753 0.01482021\n",
      " 0.01284774 0.016846   0.0151845  0.01541551 0.0195115  0.02185715\n",
      " 0.02232805 0.01998241 0.02001795 0.016073   0.01771673 0.02127074\n",
      " 0.02310993 0.02559774 0.03019129 0.02997805 0.03189722 0.03188833\n",
      " 0.03479373 0.02904513 0.03270575 0.03378084 0.03473154 0.03980488\n",
      " 0.03969826 0.0361176  0.03687283 0.03787684 0.03846205 0.0389817\n",
      " 0.03948413 0.03999407 0.04051876 0.0410575 ]\n",
      "6 day output [[0.04160658]]\n",
      "7 day input [0.02929391 0.02849426 0.03258136 0.02831656 0.02457596 0.01705924\n",
      " 0.02414948 0.02442492 0.02228363 0.0218838  0.02255906 0.02111081\n",
      " 0.0260953  0.02391847 0.02602422 0.02884966 0.03198607 0.02531342\n",
      " 0.02694826 0.02623746 0.02438938 0.01695262 0.01970697 0.01689931\n",
      " 0.0218838  0.02103972 0.01362962 0.01187927 0.0125723  0.0112662\n",
      " 0.00428258 0.01609077 0.00915157 0.00742788 0.00136829 0.0047446\n",
      " 0.         0.00538432 0.00518885 0.00898275 0.01530889 0.01703258\n",
      " 0.02127962 0.02280784 0.02762352 0.02518014 0.02629077 0.0220615\n",
      " 0.02706377 0.02447823 0.02611307 0.023723   0.01659722 0.01817875\n",
      " 0.00807648 0.00648606 0.00737457 0.00348293 0.00671707 0.00816533\n",
      " 0.01599303 0.01797439 0.01793885 0.01587753 0.01482021 0.01284774\n",
      " 0.016846   0.0151845  0.01541551 0.0195115  0.02185715 0.02232805\n",
      " 0.01998241 0.02001795 0.016073   0.01771673 0.02127074 0.02310993\n",
      " 0.02559774 0.03019129 0.02997805 0.03189722 0.03188833 0.03479373\n",
      " 0.02904513 0.03270575 0.03378084 0.03473154 0.03980488 0.03969826\n",
      " 0.0361176  0.03687283 0.03787684 0.03846205 0.0389817  0.03948413\n",
      " 0.03999407 0.04051876 0.0410575  0.04160658]\n",
      "7 day output [[0.04216195]]\n",
      "8 day input [0.02849426 0.03258136 0.02831656 0.02457596 0.01705924 0.02414948\n",
      " 0.02442492 0.02228363 0.0218838  0.02255906 0.02111081 0.0260953\n",
      " 0.02391847 0.02602422 0.02884966 0.03198607 0.02531342 0.02694826\n",
      " 0.02623746 0.02438938 0.01695262 0.01970697 0.01689931 0.0218838\n",
      " 0.02103972 0.01362962 0.01187927 0.0125723  0.0112662  0.00428258\n",
      " 0.01609077 0.00915157 0.00742788 0.00136829 0.0047446  0.\n",
      " 0.00538432 0.00518885 0.00898275 0.01530889 0.01703258 0.02127962\n",
      " 0.02280784 0.02762352 0.02518014 0.02629077 0.0220615  0.02706377\n",
      " 0.02447823 0.02611307 0.023723   0.01659722 0.01817875 0.00807648\n",
      " 0.00648606 0.00737457 0.00348293 0.00671707 0.00816533 0.01599303\n",
      " 0.01797439 0.01793885 0.01587753 0.01482021 0.01284774 0.016846\n",
      " 0.0151845  0.01541551 0.0195115  0.02185715 0.02232805 0.01998241\n",
      " 0.02001795 0.016073   0.01771673 0.02127074 0.02310993 0.02559774\n",
      " 0.03019129 0.02997805 0.03189722 0.03188833 0.03479373 0.02904513\n",
      " 0.03270575 0.03378084 0.03473154 0.03980488 0.03969826 0.0361176\n",
      " 0.03687283 0.03787684 0.03846205 0.0389817  0.03948413 0.03999407\n",
      " 0.04051876 0.0410575  0.04160658 0.04216195]\n",
      "8 day output [[0.04272012]]\n",
      "9 day input [0.03258136 0.02831656 0.02457596 0.01705924 0.02414948 0.02442492\n",
      " 0.02228363 0.0218838  0.02255906 0.02111081 0.0260953  0.02391847\n",
      " 0.02602422 0.02884966 0.03198607 0.02531342 0.02694826 0.02623746\n",
      " 0.02438938 0.01695262 0.01970697 0.01689931 0.0218838  0.02103972\n",
      " 0.01362962 0.01187927 0.0125723  0.0112662  0.00428258 0.01609077\n",
      " 0.00915157 0.00742788 0.00136829 0.0047446  0.         0.00538432\n",
      " 0.00518885 0.00898275 0.01530889 0.01703258 0.02127962 0.02280784\n",
      " 0.02762352 0.02518014 0.02629077 0.0220615  0.02706377 0.02447823\n",
      " 0.02611307 0.023723   0.01659722 0.01817875 0.00807648 0.00648606\n",
      " 0.00737457 0.00348293 0.00671707 0.00816533 0.01599303 0.01797439\n",
      " 0.01793885 0.01587753 0.01482021 0.01284774 0.016846   0.0151845\n",
      " 0.01541551 0.0195115  0.02185715 0.02232805 0.01998241 0.02001795\n",
      " 0.016073   0.01771673 0.02127074 0.02310993 0.02559774 0.03019129\n",
      " 0.02997805 0.03189722 0.03188833 0.03479373 0.02904513 0.03270575\n",
      " 0.03378084 0.03473154 0.03980488 0.03969826 0.0361176  0.03687283\n",
      " 0.03787684 0.03846205 0.0389817  0.03948413 0.03999407 0.04051876\n",
      " 0.0410575  0.04160658 0.04216195 0.04272012]\n",
      "9 day output [[0.04327855]]\n",
      "10 day input [0.02831656 0.02457596 0.01705924 0.02414948 0.02442492 0.02228363\n",
      " 0.0218838  0.02255906 0.02111081 0.0260953  0.02391847 0.02602422\n",
      " 0.02884966 0.03198607 0.02531342 0.02694826 0.02623746 0.02438938\n",
      " 0.01695262 0.01970697 0.01689931 0.0218838  0.02103972 0.01362962\n",
      " 0.01187927 0.0125723  0.0112662  0.00428258 0.01609077 0.00915157\n",
      " 0.00742788 0.00136829 0.0047446  0.         0.00538432 0.00518885\n",
      " 0.00898275 0.01530889 0.01703258 0.02127962 0.02280784 0.02762352\n",
      " 0.02518014 0.02629077 0.0220615  0.02706377 0.02447823 0.02611307\n",
      " 0.023723   0.01659722 0.01817875 0.00807648 0.00648606 0.00737457\n",
      " 0.00348293 0.00671707 0.00816533 0.01599303 0.01797439 0.01793885\n",
      " 0.01587753 0.01482021 0.01284774 0.016846   0.0151845  0.01541551\n",
      " 0.0195115  0.02185715 0.02232805 0.01998241 0.02001795 0.016073\n",
      " 0.01771673 0.02127074 0.02310993 0.02559774 0.03019129 0.02997805\n",
      " 0.03189722 0.03188833 0.03479373 0.02904513 0.03270575 0.03378084\n",
      " 0.03473154 0.03980488 0.03969826 0.0361176  0.03687283 0.03787684\n",
      " 0.03846205 0.0389817  0.03948413 0.03999407 0.04051876 0.0410575\n",
      " 0.04160658 0.04216195 0.04272012 0.04327855]\n",
      "10 day output [[0.04383546]]\n",
      "11 day input [0.02457596 0.01705924 0.02414948 0.02442492 0.02228363 0.0218838\n",
      " 0.02255906 0.02111081 0.0260953  0.02391847 0.02602422 0.02884966\n",
      " 0.03198607 0.02531342 0.02694826 0.02623746 0.02438938 0.01695262\n",
      " 0.01970697 0.01689931 0.0218838  0.02103972 0.01362962 0.01187927\n",
      " 0.0125723  0.0112662  0.00428258 0.01609077 0.00915157 0.00742788\n",
      " 0.00136829 0.0047446  0.         0.00538432 0.00518885 0.00898275\n",
      " 0.01530889 0.01703258 0.02127962 0.02280784 0.02762352 0.02518014\n",
      " 0.02629077 0.0220615  0.02706377 0.02447823 0.02611307 0.023723\n",
      " 0.01659722 0.01817875 0.00807648 0.00648606 0.00737457 0.00348293\n",
      " 0.00671707 0.00816533 0.01599303 0.01797439 0.01793885 0.01587753\n",
      " 0.01482021 0.01284774 0.016846   0.0151845  0.01541551 0.0195115\n",
      " 0.02185715 0.02232805 0.01998241 0.02001795 0.016073   0.01771673\n",
      " 0.02127074 0.02310993 0.02559774 0.03019129 0.02997805 0.03189722\n",
      " 0.03188833 0.03479373 0.02904513 0.03270575 0.03378084 0.03473154\n",
      " 0.03980488 0.03969826 0.0361176  0.03687283 0.03787684 0.03846205\n",
      " 0.0389817  0.03948413 0.03999407 0.04051876 0.0410575  0.04160658\n",
      " 0.04216195 0.04272012 0.04327855 0.04383546]\n",
      "11 day output [[0.04438975]]\n",
      "12 day input [0.01705924 0.02414948 0.02442492 0.02228363 0.0218838  0.02255906\n",
      " 0.02111081 0.0260953  0.02391847 0.02602422 0.02884966 0.03198607\n",
      " 0.02531342 0.02694826 0.02623746 0.02438938 0.01695262 0.01970697\n",
      " 0.01689931 0.0218838  0.02103972 0.01362962 0.01187927 0.0125723\n",
      " 0.0112662  0.00428258 0.01609077 0.00915157 0.00742788 0.00136829\n",
      " 0.0047446  0.         0.00538432 0.00518885 0.00898275 0.01530889\n",
      " 0.01703258 0.02127962 0.02280784 0.02762352 0.02518014 0.02629077\n",
      " 0.0220615  0.02706377 0.02447823 0.02611307 0.023723   0.01659722\n",
      " 0.01817875 0.00807648 0.00648606 0.00737457 0.00348293 0.00671707\n",
      " 0.00816533 0.01599303 0.01797439 0.01793885 0.01587753 0.01482021\n",
      " 0.01284774 0.016846   0.0151845  0.01541551 0.0195115  0.02185715\n",
      " 0.02232805 0.01998241 0.02001795 0.016073   0.01771673 0.02127074\n",
      " 0.02310993 0.02559774 0.03019129 0.02997805 0.03189722 0.03188833\n",
      " 0.03479373 0.02904513 0.03270575 0.03378084 0.03473154 0.03980488\n",
      " 0.03969826 0.0361176  0.03687283 0.03787684 0.03846205 0.0389817\n",
      " 0.03948413 0.03999407 0.04051876 0.0410575  0.04160658 0.04216195\n",
      " 0.04272012 0.04327855 0.04383546 0.04438975]\n",
      "12 day output [[0.04494091]]\n",
      "13 day input [0.02414948 0.02442492 0.02228363 0.0218838  0.02255906 0.02111081\n",
      " 0.0260953  0.02391847 0.02602422 0.02884966 0.03198607 0.02531342\n",
      " 0.02694826 0.02623746 0.02438938 0.01695262 0.01970697 0.01689931\n",
      " 0.0218838  0.02103972 0.01362962 0.01187927 0.0125723  0.0112662\n",
      " 0.00428258 0.01609077 0.00915157 0.00742788 0.00136829 0.0047446\n",
      " 0.         0.00538432 0.00518885 0.00898275 0.01530889 0.01703258\n",
      " 0.02127962 0.02280784 0.02762352 0.02518014 0.02629077 0.0220615\n",
      " 0.02706377 0.02447823 0.02611307 0.023723   0.01659722 0.01817875\n",
      " 0.00807648 0.00648606 0.00737457 0.00348293 0.00671707 0.00816533\n",
      " 0.01599303 0.01797439 0.01793885 0.01587753 0.01482021 0.01284774\n",
      " 0.016846   0.0151845  0.01541551 0.0195115  0.02185715 0.02232805\n",
      " 0.01998241 0.02001795 0.016073   0.01771673 0.02127074 0.02310993\n",
      " 0.02559774 0.03019129 0.02997805 0.03189722 0.03188833 0.03479373\n",
      " 0.02904513 0.03270575 0.03378084 0.03473154 0.03980488 0.03969826\n",
      " 0.0361176  0.03687283 0.03787684 0.03846205 0.0389817  0.03948413\n",
      " 0.03999407 0.04051876 0.0410575  0.04160658 0.04216195 0.04272012\n",
      " 0.04327855 0.04383546 0.04438975 0.04494091]\n",
      "13 day output [[0.04548877]]\n",
      "14 day input [0.02442492 0.02228363 0.0218838  0.02255906 0.02111081 0.0260953\n",
      " 0.02391847 0.02602422 0.02884966 0.03198607 0.02531342 0.02694826\n",
      " 0.02623746 0.02438938 0.01695262 0.01970697 0.01689931 0.0218838\n",
      " 0.02103972 0.01362962 0.01187927 0.0125723  0.0112662  0.00428258\n",
      " 0.01609077 0.00915157 0.00742788 0.00136829 0.0047446  0.\n",
      " 0.00538432 0.00518885 0.00898275 0.01530889 0.01703258 0.02127962\n",
      " 0.02280784 0.02762352 0.02518014 0.02629077 0.0220615  0.02706377\n",
      " 0.02447823 0.02611307 0.023723   0.01659722 0.01817875 0.00807648\n",
      " 0.00648606 0.00737457 0.00348293 0.00671707 0.00816533 0.01599303\n",
      " 0.01797439 0.01793885 0.01587753 0.01482021 0.01284774 0.016846\n",
      " 0.0151845  0.01541551 0.0195115  0.02185715 0.02232805 0.01998241\n",
      " 0.02001795 0.016073   0.01771673 0.02127074 0.02310993 0.02559774\n",
      " 0.03019129 0.02997805 0.03189722 0.03188833 0.03479373 0.02904513\n",
      " 0.03270575 0.03378084 0.03473154 0.03980488 0.03969826 0.0361176\n",
      " 0.03687283 0.03787684 0.03846205 0.0389817  0.03948413 0.03999407\n",
      " 0.04051876 0.0410575  0.04160658 0.04216195 0.04272012 0.04327855\n",
      " 0.04383546 0.04438975 0.04494091 0.04548877]\n",
      "14 day output [[0.04603351]]\n",
      "15 day input [0.02228363 0.0218838  0.02255906 0.02111081 0.0260953  0.02391847\n",
      " 0.02602422 0.02884966 0.03198607 0.02531342 0.02694826 0.02623746\n",
      " 0.02438938 0.01695262 0.01970697 0.01689931 0.0218838  0.02103972\n",
      " 0.01362962 0.01187927 0.0125723  0.0112662  0.00428258 0.01609077\n",
      " 0.00915157 0.00742788 0.00136829 0.0047446  0.         0.00538432\n",
      " 0.00518885 0.00898275 0.01530889 0.01703258 0.02127962 0.02280784\n",
      " 0.02762352 0.02518014 0.02629077 0.0220615  0.02706377 0.02447823\n",
      " 0.02611307 0.023723   0.01659722 0.01817875 0.00807648 0.00648606\n",
      " 0.00737457 0.00348293 0.00671707 0.00816533 0.01599303 0.01797439\n",
      " 0.01793885 0.01587753 0.01482021 0.01284774 0.016846   0.0151845\n",
      " 0.01541551 0.0195115  0.02185715 0.02232805 0.01998241 0.02001795\n",
      " 0.016073   0.01771673 0.02127074 0.02310993 0.02559774 0.03019129\n",
      " 0.02997805 0.03189722 0.03188833 0.03479373 0.02904513 0.03270575\n",
      " 0.03378084 0.03473154 0.03980488 0.03969826 0.0361176  0.03687283\n",
      " 0.03787684 0.03846205 0.0389817  0.03948413 0.03999407 0.04051876\n",
      " 0.0410575  0.04160658 0.04216195 0.04272012 0.04327855 0.04383546\n",
      " 0.04438975 0.04494091 0.04548877 0.04603351]\n",
      "15 day output [[0.04657544]]\n",
      "16 day input [0.0218838  0.02255906 0.02111081 0.0260953  0.02391847 0.02602422\n",
      " 0.02884966 0.03198607 0.02531342 0.02694826 0.02623746 0.02438938\n",
      " 0.01695262 0.01970697 0.01689931 0.0218838  0.02103972 0.01362962\n",
      " 0.01187927 0.0125723  0.0112662  0.00428258 0.01609077 0.00915157\n",
      " 0.00742788 0.00136829 0.0047446  0.         0.00538432 0.00518885\n",
      " 0.00898275 0.01530889 0.01703258 0.02127962 0.02280784 0.02762352\n",
      " 0.02518014 0.02629077 0.0220615  0.02706377 0.02447823 0.02611307\n",
      " 0.023723   0.01659722 0.01817875 0.00807648 0.00648606 0.00737457\n",
      " 0.00348293 0.00671707 0.00816533 0.01599303 0.01797439 0.01793885\n",
      " 0.01587753 0.01482021 0.01284774 0.016846   0.0151845  0.01541551\n",
      " 0.0195115  0.02185715 0.02232805 0.01998241 0.02001795 0.016073\n",
      " 0.01771673 0.02127074 0.02310993 0.02559774 0.03019129 0.02997805\n",
      " 0.03189722 0.03188833 0.03479373 0.02904513 0.03270575 0.03378084\n",
      " 0.03473154 0.03980488 0.03969826 0.0361176  0.03687283 0.03787684\n",
      " 0.03846205 0.0389817  0.03948413 0.03999407 0.04051876 0.0410575\n",
      " 0.04160658 0.04216195 0.04272012 0.04327855 0.04383546 0.04438975\n",
      " 0.04494091 0.04548877 0.04603351 0.04657544]\n",
      "16 day output [[0.04711497]]\n",
      "17 day input [0.02255906 0.02111081 0.0260953  0.02391847 0.02602422 0.02884966\n",
      " 0.03198607 0.02531342 0.02694826 0.02623746 0.02438938 0.01695262\n",
      " 0.01970697 0.01689931 0.0218838  0.02103972 0.01362962 0.01187927\n",
      " 0.0125723  0.0112662  0.00428258 0.01609077 0.00915157 0.00742788\n",
      " 0.00136829 0.0047446  0.         0.00538432 0.00518885 0.00898275\n",
      " 0.01530889 0.01703258 0.02127962 0.02280784 0.02762352 0.02518014\n",
      " 0.02629077 0.0220615  0.02706377 0.02447823 0.02611307 0.023723\n",
      " 0.01659722 0.01817875 0.00807648 0.00648606 0.00737457 0.00348293\n",
      " 0.00671707 0.00816533 0.01599303 0.01797439 0.01793885 0.01587753\n",
      " 0.01482021 0.01284774 0.016846   0.0151845  0.01541551 0.0195115\n",
      " 0.02185715 0.02232805 0.01998241 0.02001795 0.016073   0.01771673\n",
      " 0.02127074 0.02310993 0.02559774 0.03019129 0.02997805 0.03189722\n",
      " 0.03188833 0.03479373 0.02904513 0.03270575 0.03378084 0.03473154\n",
      " 0.03980488 0.03969826 0.0361176  0.03687283 0.03787684 0.03846205\n",
      " 0.0389817  0.03948413 0.03999407 0.04051876 0.0410575  0.04160658\n",
      " 0.04216195 0.04272012 0.04327855 0.04383546 0.04438975 0.04494091\n",
      " 0.04548877 0.04603351 0.04657544 0.04711497]\n",
      "17 day output [[0.04765257]]\n",
      "18 day input [0.02111081 0.0260953  0.02391847 0.02602422 0.02884966 0.03198607\n",
      " 0.02531342 0.02694826 0.02623746 0.02438938 0.01695262 0.01970697\n",
      " 0.01689931 0.0218838  0.02103972 0.01362962 0.01187927 0.0125723\n",
      " 0.0112662  0.00428258 0.01609077 0.00915157 0.00742788 0.00136829\n",
      " 0.0047446  0.         0.00538432 0.00518885 0.00898275 0.01530889\n",
      " 0.01703258 0.02127962 0.02280784 0.02762352 0.02518014 0.02629077\n",
      " 0.0220615  0.02706377 0.02447823 0.02611307 0.023723   0.01659722\n",
      " 0.01817875 0.00807648 0.00648606 0.00737457 0.00348293 0.00671707\n",
      " 0.00816533 0.01599303 0.01797439 0.01793885 0.01587753 0.01482021\n",
      " 0.01284774 0.016846   0.0151845  0.01541551 0.0195115  0.02185715\n",
      " 0.02232805 0.01998241 0.02001795 0.016073   0.01771673 0.02127074\n",
      " 0.02310993 0.02559774 0.03019129 0.02997805 0.03189722 0.03188833\n",
      " 0.03479373 0.02904513 0.03270575 0.03378084 0.03473154 0.03980488\n",
      " 0.03969826 0.0361176  0.03687283 0.03787684 0.03846205 0.0389817\n",
      " 0.03948413 0.03999407 0.04051876 0.0410575  0.04160658 0.04216195\n",
      " 0.04272012 0.04327855 0.04383546 0.04438975 0.04494091 0.04548877\n",
      " 0.04603351 0.04657544 0.04711497 0.04765257]\n",
      "18 day output [[0.04818868]]\n",
      "19 day input [0.0260953  0.02391847 0.02602422 0.02884966 0.03198607 0.02531342\n",
      " 0.02694826 0.02623746 0.02438938 0.01695262 0.01970697 0.01689931\n",
      " 0.0218838  0.02103972 0.01362962 0.01187927 0.0125723  0.0112662\n",
      " 0.00428258 0.01609077 0.00915157 0.00742788 0.00136829 0.0047446\n",
      " 0.         0.00538432 0.00518885 0.00898275 0.01530889 0.01703258\n",
      " 0.02127962 0.02280784 0.02762352 0.02518014 0.02629077 0.0220615\n",
      " 0.02706377 0.02447823 0.02611307 0.023723   0.01659722 0.01817875\n",
      " 0.00807648 0.00648606 0.00737457 0.00348293 0.00671707 0.00816533\n",
      " 0.01599303 0.01797439 0.01793885 0.01587753 0.01482021 0.01284774\n",
      " 0.016846   0.0151845  0.01541551 0.0195115  0.02185715 0.02232805\n",
      " 0.01998241 0.02001795 0.016073   0.01771673 0.02127074 0.02310993\n",
      " 0.02559774 0.03019129 0.02997805 0.03189722 0.03188833 0.03479373\n",
      " 0.02904513 0.03270575 0.03378084 0.03473154 0.03980488 0.03969826\n",
      " 0.0361176  0.03687283 0.03787684 0.03846205 0.0389817  0.03948413\n",
      " 0.03999407 0.04051876 0.0410575  0.04160658 0.04216195 0.04272012\n",
      " 0.04327855 0.04383546 0.04438975 0.04494091 0.04548877 0.04603351\n",
      " 0.04657544 0.04711497 0.04765257 0.04818868]\n",
      "19 day output [[0.04872368]]\n",
      "20 day input [0.02391847 0.02602422 0.02884966 0.03198607 0.02531342 0.02694826\n",
      " 0.02623746 0.02438938 0.01695262 0.01970697 0.01689931 0.0218838\n",
      " 0.02103972 0.01362962 0.01187927 0.0125723  0.0112662  0.00428258\n",
      " 0.01609077 0.00915157 0.00742788 0.00136829 0.0047446  0.\n",
      " 0.00538432 0.00518885 0.00898275 0.01530889 0.01703258 0.02127962\n",
      " 0.02280784 0.02762352 0.02518014 0.02629077 0.0220615  0.02706377\n",
      " 0.02447823 0.02611307 0.023723   0.01659722 0.01817875 0.00807648\n",
      " 0.00648606 0.00737457 0.00348293 0.00671707 0.00816533 0.01599303\n",
      " 0.01797439 0.01793885 0.01587753 0.01482021 0.01284774 0.016846\n",
      " 0.0151845  0.01541551 0.0195115  0.02185715 0.02232805 0.01998241\n",
      " 0.02001795 0.016073   0.01771673 0.02127074 0.02310993 0.02559774\n",
      " 0.03019129 0.02997805 0.03189722 0.03188833 0.03479373 0.02904513\n",
      " 0.03270575 0.03378084 0.03473154 0.03980488 0.03969826 0.0361176\n",
      " 0.03687283 0.03787684 0.03846205 0.0389817  0.03948413 0.03999407\n",
      " 0.04051876 0.0410575  0.04160658 0.04216195 0.04272012 0.04327855\n",
      " 0.04383546 0.04438975 0.04494091 0.04548877 0.04603351 0.04657544\n",
      " 0.04711497 0.04765257 0.04818868 0.04872368]\n",
      "20 day output [[0.0492579]]\n",
      "21 day input [0.02602422 0.02884966 0.03198607 0.02531342 0.02694826 0.02623746\n",
      " 0.02438938 0.01695262 0.01970697 0.01689931 0.0218838  0.02103972\n",
      " 0.01362962 0.01187927 0.0125723  0.0112662  0.00428258 0.01609077\n",
      " 0.00915157 0.00742788 0.00136829 0.0047446  0.         0.00538432\n",
      " 0.00518885 0.00898275 0.01530889 0.01703258 0.02127962 0.02280784\n",
      " 0.02762352 0.02518014 0.02629077 0.0220615  0.02706377 0.02447823\n",
      " 0.02611307 0.023723   0.01659722 0.01817875 0.00807648 0.00648606\n",
      " 0.00737457 0.00348293 0.00671707 0.00816533 0.01599303 0.01797439\n",
      " 0.01793885 0.01587753 0.01482021 0.01284774 0.016846   0.0151845\n",
      " 0.01541551 0.0195115  0.02185715 0.02232805 0.01998241 0.02001795\n",
      " 0.016073   0.01771673 0.02127074 0.02310993 0.02559774 0.03019129\n",
      " 0.02997805 0.03189722 0.03188833 0.03479373 0.02904513 0.03270575\n",
      " 0.03378084 0.03473154 0.03980488 0.03969826 0.0361176  0.03687283\n",
      " 0.03787684 0.03846205 0.0389817  0.03948413 0.03999407 0.04051876\n",
      " 0.0410575  0.04160658 0.04216195 0.04272012 0.04327855 0.04383546\n",
      " 0.04438975 0.04494091 0.04548877 0.04603351 0.04657544 0.04711497\n",
      " 0.04765257 0.04818868 0.04872368 0.0492579 ]\n",
      "21 day output [[0.04979162]]\n",
      "22 day input [0.02884966 0.03198607 0.02531342 0.02694826 0.02623746 0.02438938\n",
      " 0.01695262 0.01970697 0.01689931 0.0218838  0.02103972 0.01362962\n",
      " 0.01187927 0.0125723  0.0112662  0.00428258 0.01609077 0.00915157\n",
      " 0.00742788 0.00136829 0.0047446  0.         0.00538432 0.00518885\n",
      " 0.00898275 0.01530889 0.01703258 0.02127962 0.02280784 0.02762352\n",
      " 0.02518014 0.02629077 0.0220615  0.02706377 0.02447823 0.02611307\n",
      " 0.023723   0.01659722 0.01817875 0.00807648 0.00648606 0.00737457\n",
      " 0.00348293 0.00671707 0.00816533 0.01599303 0.01797439 0.01793885\n",
      " 0.01587753 0.01482021 0.01284774 0.016846   0.0151845  0.01541551\n",
      " 0.0195115  0.02185715 0.02232805 0.01998241 0.02001795 0.016073\n",
      " 0.01771673 0.02127074 0.02310993 0.02559774 0.03019129 0.02997805\n",
      " 0.03189722 0.03188833 0.03479373 0.02904513 0.03270575 0.03378084\n",
      " 0.03473154 0.03980488 0.03969826 0.0361176  0.03687283 0.03787684\n",
      " 0.03846205 0.0389817  0.03948413 0.03999407 0.04051876 0.0410575\n",
      " 0.04160658 0.04216195 0.04272012 0.04327855 0.04383546 0.04438975\n",
      " 0.04494091 0.04548877 0.04603351 0.04657544 0.04711497 0.04765257\n",
      " 0.04818868 0.04872368 0.0492579  0.04979162]\n",
      "22 day output [[0.05032502]]\n",
      "23 day input [0.03198607 0.02531342 0.02694826 0.02623746 0.02438938 0.01695262\n",
      " 0.01970697 0.01689931 0.0218838  0.02103972 0.01362962 0.01187927\n",
      " 0.0125723  0.0112662  0.00428258 0.01609077 0.00915157 0.00742788\n",
      " 0.00136829 0.0047446  0.         0.00538432 0.00518885 0.00898275\n",
      " 0.01530889 0.01703258 0.02127962 0.02280784 0.02762352 0.02518014\n",
      " 0.02629077 0.0220615  0.02706377 0.02447823 0.02611307 0.023723\n",
      " 0.01659722 0.01817875 0.00807648 0.00648606 0.00737457 0.00348293\n",
      " 0.00671707 0.00816533 0.01599303 0.01797439 0.01793885 0.01587753\n",
      " 0.01482021 0.01284774 0.016846   0.0151845  0.01541551 0.0195115\n",
      " 0.02185715 0.02232805 0.01998241 0.02001795 0.016073   0.01771673\n",
      " 0.02127074 0.02310993 0.02559774 0.03019129 0.02997805 0.03189722\n",
      " 0.03188833 0.03479373 0.02904513 0.03270575 0.03378084 0.03473154\n",
      " 0.03980488 0.03969826 0.0361176  0.03687283 0.03787684 0.03846205\n",
      " 0.0389817  0.03948413 0.03999407 0.04051876 0.0410575  0.04160658\n",
      " 0.04216195 0.04272012 0.04327855 0.04383546 0.04438975 0.04494091\n",
      " 0.04548877 0.04603351 0.04657544 0.04711497 0.04765257 0.04818868\n",
      " 0.04872368 0.0492579  0.04979162 0.05032502]\n",
      "23 day output [[0.05085824]]\n",
      "24 day input [0.02531342 0.02694826 0.02623746 0.02438938 0.01695262 0.01970697\n",
      " 0.01689931 0.0218838  0.02103972 0.01362962 0.01187927 0.0125723\n",
      " 0.0112662  0.00428258 0.01609077 0.00915157 0.00742788 0.00136829\n",
      " 0.0047446  0.         0.00538432 0.00518885 0.00898275 0.01530889\n",
      " 0.01703258 0.02127962 0.02280784 0.02762352 0.02518014 0.02629077\n",
      " 0.0220615  0.02706377 0.02447823 0.02611307 0.023723   0.01659722\n",
      " 0.01817875 0.00807648 0.00648606 0.00737457 0.00348293 0.00671707\n",
      " 0.00816533 0.01599303 0.01797439 0.01793885 0.01587753 0.01482021\n",
      " 0.01284774 0.016846   0.0151845  0.01541551 0.0195115  0.02185715\n",
      " 0.02232805 0.01998241 0.02001795 0.016073   0.01771673 0.02127074\n",
      " 0.02310993 0.02559774 0.03019129 0.02997805 0.03189722 0.03188833\n",
      " 0.03479373 0.02904513 0.03270575 0.03378084 0.03473154 0.03980488\n",
      " 0.03969826 0.0361176  0.03687283 0.03787684 0.03846205 0.0389817\n",
      " 0.03948413 0.03999407 0.04051876 0.0410575  0.04160658 0.04216195\n",
      " 0.04272012 0.04327855 0.04383546 0.04438975 0.04494091 0.04548877\n",
      " 0.04603351 0.04657544 0.04711497 0.04765257 0.04818868 0.04872368\n",
      " 0.0492579  0.04979162 0.05032502 0.05085824]\n",
      "24 day output [[0.05139135]]\n",
      "25 day input [0.02694826 0.02623746 0.02438938 0.01695262 0.01970697 0.01689931\n",
      " 0.0218838  0.02103972 0.01362962 0.01187927 0.0125723  0.0112662\n",
      " 0.00428258 0.01609077 0.00915157 0.00742788 0.00136829 0.0047446\n",
      " 0.         0.00538432 0.00518885 0.00898275 0.01530889 0.01703258\n",
      " 0.02127962 0.02280784 0.02762352 0.02518014 0.02629077 0.0220615\n",
      " 0.02706377 0.02447823 0.02611307 0.023723   0.01659722 0.01817875\n",
      " 0.00807648 0.00648606 0.00737457 0.00348293 0.00671707 0.00816533\n",
      " 0.01599303 0.01797439 0.01793885 0.01587753 0.01482021 0.01284774\n",
      " 0.016846   0.0151845  0.01541551 0.0195115  0.02185715 0.02232805\n",
      " 0.01998241 0.02001795 0.016073   0.01771673 0.02127074 0.02310993\n",
      " 0.02559774 0.03019129 0.02997805 0.03189722 0.03188833 0.03479373\n",
      " 0.02904513 0.03270575 0.03378084 0.03473154 0.03980488 0.03969826\n",
      " 0.0361176  0.03687283 0.03787684 0.03846205 0.0389817  0.03948413\n",
      " 0.03999407 0.04051876 0.0410575  0.04160658 0.04216195 0.04272012\n",
      " 0.04327855 0.04383546 0.04438975 0.04494091 0.04548877 0.04603351\n",
      " 0.04657544 0.04711497 0.04765257 0.04818868 0.04872368 0.0492579\n",
      " 0.04979162 0.05032502 0.05085824 0.05139135]\n",
      "25 day output [[0.05192438]]\n",
      "26 day input [0.02623746 0.02438938 0.01695262 0.01970697 0.01689931 0.0218838\n",
      " 0.02103972 0.01362962 0.01187927 0.0125723  0.0112662  0.00428258\n",
      " 0.01609077 0.00915157 0.00742788 0.00136829 0.0047446  0.\n",
      " 0.00538432 0.00518885 0.00898275 0.01530889 0.01703258 0.02127962\n",
      " 0.02280784 0.02762352 0.02518014 0.02629077 0.0220615  0.02706377\n",
      " 0.02447823 0.02611307 0.023723   0.01659722 0.01817875 0.00807648\n",
      " 0.00648606 0.00737457 0.00348293 0.00671707 0.00816533 0.01599303\n",
      " 0.01797439 0.01793885 0.01587753 0.01482021 0.01284774 0.016846\n",
      " 0.0151845  0.01541551 0.0195115  0.02185715 0.02232805 0.01998241\n",
      " 0.02001795 0.016073   0.01771673 0.02127074 0.02310993 0.02559774\n",
      " 0.03019129 0.02997805 0.03189722 0.03188833 0.03479373 0.02904513\n",
      " 0.03270575 0.03378084 0.03473154 0.03980488 0.03969826 0.0361176\n",
      " 0.03687283 0.03787684 0.03846205 0.0389817  0.03948413 0.03999407\n",
      " 0.04051876 0.0410575  0.04160658 0.04216195 0.04272012 0.04327855\n",
      " 0.04383546 0.04438975 0.04494091 0.04548877 0.04603351 0.04657544\n",
      " 0.04711497 0.04765257 0.04818868 0.04872368 0.0492579  0.04979162\n",
      " 0.05032502 0.05085824 0.05139135 0.05192438]\n",
      "26 day output [[0.05245733]]\n",
      "27 day input [0.02438938 0.01695262 0.01970697 0.01689931 0.0218838  0.02103972\n",
      " 0.01362962 0.01187927 0.0125723  0.0112662  0.00428258 0.01609077\n",
      " 0.00915157 0.00742788 0.00136829 0.0047446  0.         0.00538432\n",
      " 0.00518885 0.00898275 0.01530889 0.01703258 0.02127962 0.02280784\n",
      " 0.02762352 0.02518014 0.02629077 0.0220615  0.02706377 0.02447823\n",
      " 0.02611307 0.023723   0.01659722 0.01817875 0.00807648 0.00648606\n",
      " 0.00737457 0.00348293 0.00671707 0.00816533 0.01599303 0.01797439\n",
      " 0.01793885 0.01587753 0.01482021 0.01284774 0.016846   0.0151845\n",
      " 0.01541551 0.0195115  0.02185715 0.02232805 0.01998241 0.02001795\n",
      " 0.016073   0.01771673 0.02127074 0.02310993 0.02559774 0.03019129\n",
      " 0.02997805 0.03189722 0.03188833 0.03479373 0.02904513 0.03270575\n",
      " 0.03378084 0.03473154 0.03980488 0.03969826 0.0361176  0.03687283\n",
      " 0.03787684 0.03846205 0.0389817  0.03948413 0.03999407 0.04051876\n",
      " 0.0410575  0.04160658 0.04216195 0.04272012 0.04327855 0.04383546\n",
      " 0.04438975 0.04494091 0.04548877 0.04603351 0.04657544 0.04711497\n",
      " 0.04765257 0.04818868 0.04872368 0.0492579  0.04979162 0.05032502\n",
      " 0.05085824 0.05139135 0.05192438 0.05245733]\n",
      "27 day output [[0.05299021]]\n",
      "28 day input [0.01695262 0.01970697 0.01689931 0.0218838  0.02103972 0.01362962\n",
      " 0.01187927 0.0125723  0.0112662  0.00428258 0.01609077 0.00915157\n",
      " 0.00742788 0.00136829 0.0047446  0.         0.00538432 0.00518885\n",
      " 0.00898275 0.01530889 0.01703258 0.02127962 0.02280784 0.02762352\n",
      " 0.02518014 0.02629077 0.0220615  0.02706377 0.02447823 0.02611307\n",
      " 0.023723   0.01659722 0.01817875 0.00807648 0.00648606 0.00737457\n",
      " 0.00348293 0.00671707 0.00816533 0.01599303 0.01797439 0.01793885\n",
      " 0.01587753 0.01482021 0.01284774 0.016846   0.0151845  0.01541551\n",
      " 0.0195115  0.02185715 0.02232805 0.01998241 0.02001795 0.016073\n",
      " 0.01771673 0.02127074 0.02310993 0.02559774 0.03019129 0.02997805\n",
      " 0.03189722 0.03188833 0.03479373 0.02904513 0.03270575 0.03378084\n",
      " 0.03473154 0.03980488 0.03969826 0.0361176  0.03687283 0.03787684\n",
      " 0.03846205 0.0389817  0.03948413 0.03999407 0.04051876 0.0410575\n",
      " 0.04160658 0.04216195 0.04272012 0.04327855 0.04383546 0.04438975\n",
      " 0.04494091 0.04548877 0.04603351 0.04657544 0.04711497 0.04765257\n",
      " 0.04818868 0.04872368 0.0492579  0.04979162 0.05032502 0.05085824\n",
      " 0.05139135 0.05192438 0.05245733 0.05299021]\n",
      "28 day output [[0.05352298]]\n",
      "29 day input [0.01970697 0.01689931 0.0218838  0.02103972 0.01362962 0.01187927\n",
      " 0.0125723  0.0112662  0.00428258 0.01609077 0.00915157 0.00742788\n",
      " 0.00136829 0.0047446  0.         0.00538432 0.00518885 0.00898275\n",
      " 0.01530889 0.01703258 0.02127962 0.02280784 0.02762352 0.02518014\n",
      " 0.02629077 0.0220615  0.02706377 0.02447823 0.02611307 0.023723\n",
      " 0.01659722 0.01817875 0.00807648 0.00648606 0.00737457 0.00348293\n",
      " 0.00671707 0.00816533 0.01599303 0.01797439 0.01793885 0.01587753\n",
      " 0.01482021 0.01284774 0.016846   0.0151845  0.01541551 0.0195115\n",
      " 0.02185715 0.02232805 0.01998241 0.02001795 0.016073   0.01771673\n",
      " 0.02127074 0.02310993 0.02559774 0.03019129 0.02997805 0.03189722\n",
      " 0.03188833 0.03479373 0.02904513 0.03270575 0.03378084 0.03473154\n",
      " 0.03980488 0.03969826 0.0361176  0.03687283 0.03787684 0.03846205\n",
      " 0.0389817  0.03948413 0.03999407 0.04051876 0.0410575  0.04160658\n",
      " 0.04216195 0.04272012 0.04327855 0.04383546 0.04438975 0.04494091\n",
      " 0.04548877 0.04603351 0.04657544 0.04711497 0.04765257 0.04818868\n",
      " 0.04872368 0.0492579  0.04979162 0.05032502 0.05085824 0.05139135\n",
      " 0.05192438 0.05245733 0.05299021 0.05352298]\n",
      "29 day output [[0.05405562]]\n",
      "[[0.03846204653382301], [0.03898170217871666], [0.03948413208127022], [0.03999406844377518], [0.040518760681152344], [0.04105749726295471], [0.04160658270120621], [0.04216194897890091], [0.04272012412548065], [0.04327855259180069], [0.04383545741438866], [0.0443897545337677], [0.04494090750813484], [0.04548877105116844], [0.046033505350351334], [0.04657544195652008], [0.04711496829986572], [0.04765256866812706], [0.048188675194978714], [0.048723675310611725], [0.049257904291152954], [0.049791622906923294], [0.050325024873018265], [0.05085824429988861], [0.051391348242759705], [0.05192437767982483], [0.052457332611083984], [0.052990205585956573], [0.0535229817032814], [0.05405561998486519]]\n"
     ]
    }
   ],
   "source": [
    "# demonstrate prediction for next 10 days\n",
    "from numpy import array\n",
    "\n",
    "lst_output=[]\n",
    "n_steps=100\n",
    "i=0\n",
    "while(i<30):\n",
    "    \n",
    "    if(len(temp_input)>100):\n",
    "        #print(temp_input)\n",
    "        x_input=np.array(temp_input[1:])\n",
    "        print(\"{} day input {}\".format(i,x_input))\n",
    "        x_input=x_input.reshape(1,-1)\n",
    "        x_input = x_input.reshape((1, n_steps, 1))\n",
    "        #print(x_input)\n",
    "        yhat = model.predict(x_input, verbose=0)\n",
    "        print(\"{} day output {}\".format(i,yhat))\n",
    "        temp_input.extend(yhat[0].tolist())\n",
    "        temp_input=temp_input[1:]\n",
    "        #print(temp_input)\n",
    "        lst_output.extend(yhat.tolist())\n",
    "        i=i+1\n",
    "    else:\n",
    "        x_input = x_input.reshape((1, n_steps,1))\n",
    "        yhat = model.predict(x_input, verbose=0)\n",
    "        print(yhat[0])\n",
    "        temp_input.extend(yhat[0].tolist())\n",
    "        print(len(temp_input))\n",
    "        lst_output.extend(yhat.tolist())\n",
    "        i=i+1\n",
    "    \n",
    "\n",
    "print(lst_output)"
   ]
  },
  {
   "cell_type": "code",
   "execution_count": 38,
   "id": "3a4eef30-73fb-48fd-a027-0eda1fa8ffd1",
   "metadata": {},
   "outputs": [],
   "source": [
    "day_new=np.arange(1,101)\n",
    "day_pred=np.arange(101,131)"
   ]
  },
  {
   "cell_type": "code",
   "execution_count": 39,
   "id": "f3bf49d3-2f32-4681-99af-6fa956cf39e1",
   "metadata": {},
   "outputs": [
    {
     "data": {
      "text/plain": [
       "1255"
      ]
     },
     "execution_count": 39,
     "metadata": {},
     "output_type": "execute_result"
    }
   ],
   "source": [
    "len(df1)"
   ]
  },
  {
   "cell_type": "code",
   "execution_count": 40,
   "id": "594c3282-de9a-4ecc-8b5f-a97558c21bc2",
   "metadata": {},
   "outputs": [
    {
     "data": {
      "text/plain": [
       "[<matplotlib.lines.Line2D at 0x2023de30c90>]"
      ]
     },
     "execution_count": 40,
     "metadata": {},
     "output_type": "execute_result"
    },
    {
     "data": {
      "image/png": "[encoded data removed]",
      "text/plain": [
       "<Figure size 640x480 with 1 Axes>"
      ]
     },
     "metadata": {},
     "output_type": "display_data"
    }
   ],
   "source": [
    "plt.plot(day_new,scaler.inverse_transform(df1[1155:]))\n",
    "plt.plot(day_pred,scaler.inverse_transform(lst_output))"
   ]
  },
  {
   "cell_type": "code",
   "execution_count": 41,
   "id": "6439013d-7321-4fc3-b9e8-abaf1627358d",
   "metadata": {},
   "outputs": [
    {
     "data": {
      "text/plain": [
       "[<matplotlib.lines.Line2D at 0x20241395b90>]"
      ]
     },
     "execution_count": 41,
     "metadata": {},
     "output_type": "execute_result"
    },
    {
     "data": {
      "image/png": "[encoded data removed]",
      "text/plain": [
       "<Figure size 640x480 with 1 Axes>"
      ]
     },
     "metadata": {},
     "output_type": "display_data"
    }
   ],
   "source": [
    "df3=df1.tolist()\n",
    "df3.extend(lst_output)\n",
    "plt.plot(df3[1200:])"
   ]
  },
  {
   "cell_type": "code",
   "execution_count": 42,
   "id": "324146b2-46ea-4c5a-8152-fd9d23d549e4",
   "metadata": {},
   "outputs": [],
   "source": [
    "df3=scaler.inverse_transform(df3).tolist()"
   ]
  },
  {
   "cell_type": "code",
   "execution_count": 43,
   "id": "c80a878c-705f-4aa4-adf2-e43d2f041a73",
   "metadata": {},
   "outputs": [
    {
     "data": {
      "text/plain": [
       "[<matplotlib.lines.Line2D at 0x20241234150>]"
      ]
     },
     "execution_count": 43,
     "metadata": {},
     "output_type": "execute_result"
    },
    {
     "data": {
      "image/png": "[encoded data removed]",
      "text/plain": [
       "<Figure size 640x480 with 1 Axes>"
      ]
     },
     "metadata": {},
     "output_type": "display_data"
    }
   ],
   "source": [
    "plt.plot(df3)"
   ]
  },
  {
   "cell_type": "code",
   "execution_count": null,
   "id": "ebee0269-f816-425e-868a-12a62e037d9c",
   "metadata": {},
   "outputs": [],
   "source": []
  }
 ],
 "metadata": {
  "kernelspec": {
   "display_name": "Python 3 (ipykernel)",
   "language": "python",
   "name": "python3"
  },
  "language_info": {
   "codemirror_mode": {
    "name": "ipython",
    "version": 3
   },
   "file_extension": ".py",
   "mimetype": "text/x-python",
   "name": "python",
   "nbconvert_exporter": "python",
   "pygments_lexer": "ipython3",
   "version": "3.13.5"
  }
 },
 "nbformat": 4,
 "nbformat_minor": 5
}
